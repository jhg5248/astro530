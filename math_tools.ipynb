{
 "cells": [
  {
   "cell_type": "code",
   "execution_count": 1,
   "metadata": {},
   "outputs": [],
   "source": [
    "\"\"\"The idea is to put any math utility routines that we need to write in this module\"\"\"\n",
    "import numpy as np\n",
    "import scipy.integrate as integrate\n",
    "import  math"
   ]
  },
  {
   "cell_type": "code",
   "execution_count": 222,
   "metadata": {},
   "outputs": [],
   "source": [
    "def integral(f, xmin, xmax, nsteps, xminguess = 0, xmaxguess = 0, eBound = 0, maxIter = 5):\n",
    "    \"\"\"\n",
    "    Name: \n",
    "        integrate\n",
    "    \n",
    "    Purpose:\n",
    "        Integrate 1D functions using specified gridpoints, and optionally running until convergence to within a percentage, eBounds\n",
    "    \n",
    "    Explanation: \n",
    "        Integrate using a basic right-handed Riemann sum. \n",
    "    \n",
    "    Calling Seuqence:\n",
    "        integrator, f, xmin, xmax, nsteps, F\n",
    "        \n",
    "    Input/Output:\n",
    "        f - The function to be integrated. Must return a float.\n",
    "        xmin - Lower bound of integration\n",
    "        xmax - Upper bound of integration\n",
    "        nsteps - The number of points to use for computing the integral, as a starting point\n",
    "        eBounds - The allowed percent error. Must be supplied if either bound is infinite\n",
    "        xminguess - a guess for the minimum xvalue, if -inf. Must be supplied if xmax is infinite\n",
    "        xmaxguess - a guess for the maximum xvalue, if inf. Must be supplied if either bound is infinite\n",
    "        integral, error - A list containing the approximate value of the integral and its error, \n",
    "        or if no error bound is specified then just the appproximate value\n",
    "    \n",
    "    Limitations: If any gridpoints fall on a singularity, the routine will fail. \n",
    "    If there is a divergence not directly evaluated, the integral will fail to converge\n",
    "    and we will get a nonsense answer. \n",
    "        \n",
    "        \n",
    "    \n",
    "    \"\"\"\n",
    "    if (xmax == math.inf) and (xmaxguess == 0):\n",
    "        return \"Supply xmaxguess\"\n",
    "    if (xmin == -math.inf) and (xminguess == 0):\n",
    "        return \"Supply xminguess\"\n",
    "    if ((xmax == math.inf) | (xmin == -math.inf)) and (eBound == 0):\n",
    "        return \"Supply eBound\"\n",
    "    if eBound != 0:\n",
    "        #The idea is that the contribution from taking out the integral further should be restricted to a higher decimal place \n",
    "        #each time. Of course this is not rigorously true (probably we need something about the function being monotonic), \n",
    "        #but it should be a useful heuristic. Note that the guesses must be \"reasonable\" and convergence is not guaranteed. \n",
    "        if xmax == math.inf:\n",
    "            xmax = xmaxguess\n",
    "            if xmin == -math.inf:\n",
    "                xmin = xminguess\n",
    "            n = 0\n",
    "            xmaxlist = [xmax]\n",
    "            xgrid = np.linspace(xmin, xmax, nsteps+1)\n",
    "            ygrid = f(xgrid) \n",
    "            errorCont = np.absolute( f(xgrid[-2]) * (xgrid[-1] - xgrid[-2]))\n",
    "            errorxmax =[(errorCont / integrate.simps(ygrid, xgrid))]\n",
    "            while (errorxmax[n] > (.1 * eBound)) and (n <= maxIter):\n",
    "                xmax = xmax * 10\n",
    "                nsteps = nsteps * 10\n",
    "                xgrid = np.linspace(xmin, xmax, nsteps+1)\n",
    "                ygrid = f(xgrid) \n",
    "                errorCont = np.absolute( f(xgrid[-2]) * (xgrid[-1] - xgrid[-2]))\n",
    "                errorxmax.append(errorCont / integrate.simps(ygrid, xgrid))\n",
    "                n += 1     \n",
    "                xmaxlist.append(xmax)\n",
    "        \n",
    "        if n == maxIter:\n",
    "            return \"Max iterations reached. Integral may not converge\"\n",
    "            \n",
    "        #If we had infinite bounds, these next two lines do nothing. \n",
    "        xgrid = np.linspace(xmin, xmax, nsteps+1)\n",
    "        ygrid = f(xgrid)        \n",
    "        n = 0\n",
    "        error = [1.0]\n",
    "        integral = [0]\n",
    "        print(type(error[n]))\n",
    "        xgrid = np.linspace(xmin, xmax, nsteps+1)\n",
    "        ygrid = f(xgrid) \n",
    "        integralNew = integrate.simps(ygrid, xgrid)\n",
    "        error = [(np.absolute((integral[n] - integralNew)/integralNew))]\n",
    "        nsteps = [nsteps]\n",
    "        integral = [(integralNew)]\n",
    "        while (error[n] > eBound) and (n <= maxIter):\n",
    "            nsteps.append(nsteps[-1] * 10)\n",
    "            xgrid = np.linspace(xmin, xmax, nsteps[-1]+1)\n",
    "            ygrid = f(xgrid) \n",
    "            integralNew = integrate.simps(ygrid, xgrid)\n",
    "            error.append(np.absolute((integral[n] - integralNew)/integralNew))\n",
    "            integral.append(integralNew)\n",
    "            n += 1\n",
    "        #if n == maxIter:\n",
    "        #    return \"Max iterations reached. Integral may not converge\"\n",
    "        return integral, xmaxlist, errorxmax, nsteps, error        \n",
    "\n",
    "        \n",
    "    else:\n",
    "        xgrid = np.linspace(xmin, xmax, nsteps+1)\n",
    "        ygrid = f(xgrid)\n",
    "        integral = integrate.simps(ygrid, xgrid)\n",
    "    return integral\n",
    "\n",
    "        "
   ]
  },
  {
   "cell_type": "code",
   "execution_count": 223,
   "metadata": {},
   "outputs": [
    {
     "name": "stdout",
     "output_type": "stream",
     "text": [
      "<class 'float'>\n"
     ]
    },
    {
     "data": {
      "text/plain": [
       "([1.0049571806593247,\n",
       "  1.0000005548948736,\n",
       "  1.0000000000555547,\n",
       "  1.0000000000000053],\n",
       " [1, 10, 100],\n",
       " [1.4621171572600098, 0.00012280663247415748, 1.006233411802694e-43],\n",
       " [100, 1000, 10000, 100000],\n",
       " [1.0, 0.004956623014046405, 5.54839318902807e-07, 5.5549342903304635e-11])"
      ]
     },
     "execution_count": 223,
     "metadata": {},
     "output_type": "execute_result"
    }
   ],
   "source": [
    "integral(lambda x: np.exp(-x), 0, math.inf, 1, xmaxguess = 1, eBound = 1e-10)"
   ]
  },
  {
   "cell_type": "markdown",
   "metadata": {},
   "source": [
    "#integral(lambda x: np.exp(-x), 0, 10, 10, eBound = 1e-10)"
   ]
  },
  {
   "cell_type": "code",
   "execution_count": null,
   "metadata": {},
   "outputs": [],
   "source": []
  }
 ],
 "metadata": {
  "kernelspec": {
   "display_name": "Python 3",
   "language": "python",
   "name": "python3"
  },
  "language_info": {
   "codemirror_mode": {
    "name": "ipython",
    "version": 3
   },
   "file_extension": ".py",
   "mimetype": "text/x-python",
   "name": "python",
   "nbconvert_exporter": "python",
   "pygments_lexer": "ipython3",
   "version": "3.7.3"
  }
 },
 "nbformat": 4,
 "nbformat_minor": 2
}
