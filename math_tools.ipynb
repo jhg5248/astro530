{
 "cells": [
  {
   "cell_type": "code",
   "execution_count": 1,
   "metadata": {},
   "outputs": [],
   "source": [
    "\"\"\"The idea is to put any math utility routines that we need to write in this module\"\"\"\n",
    "import numpy as np\n",
    "import scipy.integrate as integrate\n",
    "import  math"
   ]
  },
  {
   "cell_type": "code",
   "execution_count": 100,
   "metadata": {},
   "outputs": [],
   "source": [
    "def integral(f, xmin, xmax, nsteps, xminguess = 0, xmaxguess = 0, eBound = 0, maxIter = 10):\n",
    "    \"\"\"\n",
    "    Name: \n",
    "        integrate\n",
    "    \n",
    "    Purpose:\n",
    "        Integrate 1D functions using specified gridpoints, and optionally running until convergence to within a percentage, eBounds\n",
    "    \n",
    "    Explanation: \n",
    "        Integrate using a basic right-handed Riemann sum. \n",
    "    \n",
    "    Calling Seuqence:\n",
    "        integrator, f, xmin, xmax, nsteps, F\n",
    "        \n",
    "    Input/Output:\n",
    "        f - The function to be integrated. Must return a float.\n",
    "        xmin - Lower bound of integration\n",
    "        xmax - Upper bound of integration\n",
    "        nsteps - The number of points to use for computing the integral, as a starting point\n",
    "        eBounds - The allowed percent error. Must be supplied if either bound is infinite\n",
    "        xminguess - a guess for the minimum xvalue, if -inf. Must be supplied if xmax is infinite\n",
    "        xmaxguess - a guess for the maximum xvalue, if inf. Must be supplied if either bound is infinite\n",
    "        integral, error - A list containing the approximate value of the integral and its error, \n",
    "        or if no error bound is specified then just the appproximate value\n",
    "    \n",
    "    Limitations: If any gridpoints fall on a singularity, the routine will fail. \n",
    "    If there is a divergence not directly evaluated, the integral will fail to converge\n",
    "    and we will get a nonsense answer. \n",
    "        \n",
    "        \n",
    "    \n",
    "    \"\"\"\n",
    "    if (xmax == math.inf) & (xmaxguess == 0):\n",
    "        return \"Supply xmaxguess\"\n",
    "    if (xmin == -math.inf) & (xminguess == 0):\n",
    "        return \"Supply xminguess\"\n",
    "    if ((xmax == math.inf) | (xmin == -math.inf)) & (eBound == 0):\n",
    "        return \"Supply eBound\"\n",
    "    if eBound != 0:\n",
    "        #The idea is that the contribution from taking out the integral further should be restricted to a higher decimal place \n",
    "        #each time. Of course this is not rigorously true (probably we need something about the function being monotonic), \n",
    "        #but it should be a useful heuristic. Note that the guesses must be \"reasonable\" and convergence is not guaranteed. \n",
    "        error = 1\n",
    "        if xmax == math.inf:\n",
    "            xmax = xmaxguess\n",
    "            if xmin == -math.inf:\n",
    "                xmin = xminguess\n",
    "            n = 0\n",
    "            \n",
    "            while (error > (.1 * eBound)) & (n <= maxIter):\n",
    "                xmax = xmax * 10\n",
    "                nsteps = nsteps * 10\n",
    "                xgrid = np.linspace(xmin, xmax, nsteps+1)\n",
    "                ygrid = f(xgrid) \n",
    "                errorCont = np.absolute( f(xgrid[-2]) * (xgrid[-1] - xgrid[-2]))\n",
    "                error = errorCont / integrate.simps(ygrid, xgrid)\n",
    "                n += 1        \n",
    "        if xmin == -math.inf:\n",
    "            xmin = xminguess\n",
    "            xmax = xmaxguess\n",
    "            n = 0\n",
    "            \n",
    "            while ((errorCont > .1 * eBound)) & (n <= maxIter):\n",
    "                xmax = xmax * 10\n",
    "                xgrid = np.linspace(xmin, xmax, nsteps+1)\n",
    "                ygrid = f(xgrid) \n",
    "                errorCont = np.absolute( f(xgrid[-2]) * (xgrid[-1] - xgrid[-2]))   \n",
    "                error = errorCont / integrate.simps(ygrid, xgrid)\n",
    "                n += 1\n",
    "        if n == maxIter:\n",
    "            return \"Max iterations reached. Integral may not converge\"\n",
    "        #If we had infinite bounds, these next two lines do nothing. \n",
    "        xgrid = np.linspace(xmin, xmax, nsteps+1)\n",
    "        ygrid = f(xgrid)        \n",
    "        n = 0\n",
    "        error = 1\n",
    "        integral = 0\n",
    "        while (error > eBound) & (n <= maxIter):\n",
    "            nsteps = nsteps * 10\n",
    "            xgrid = np.linspace(xmin, xmax, nsteps+1)\n",
    "            ygrid = f(xgrid) \n",
    "            integralNew = integrate.simps(ygrid, xgrid)\n",
    "            error = np.absolute((integral - integralNew)/integralNew)\n",
    "            integral = integralNew\n",
    "            n += 1\n",
    "        if n == maxIter:\n",
    "            return \"Max iterations reached. Integral may not converge\"\n",
    "        return integral, error        \n",
    "\n",
    "        \n",
    "    else:\n",
    "        xgrid = np.linspace(xmin, xmax, nsteps+1)\n",
    "        ygrid = f(xgrid)\n",
    "        integral = integrate.simps(ygrid, xgrid)\n",
    "    return integral\n",
    "\n",
    "        "
   ]
  },
  {
   "cell_type": "code",
   "execution_count": 101,
   "metadata": {},
   "outputs": [
    {
     "data": {
      "text/plain": [
       "1.0049115556739088"
      ]
     },
     "execution_count": 101,
     "metadata": {},
     "output_type": "execute_result"
    }
   ],
   "source": [
    "#integral(lambda x: np.exp(-x), 0, 10, 10)"
   ]
  },
  {
   "cell_type": "code",
   "execution_count": null,
   "metadata": {},
   "outputs": [],
   "source": []
  }
 ],
 "metadata": {
  "kernelspec": {
   "display_name": "Python 3",
   "language": "python",
   "name": "python3"
  },
  "language_info": {
   "codemirror_mode": {
    "name": "ipython",
    "version": 3
   },
   "file_extension": ".py",
   "mimetype": "text/x-python",
   "name": "python",
   "nbconvert_exporter": "python",
   "pygments_lexer": "ipython3",
   "version": "3.7.3"
  }
 },
 "nbformat": 4,
 "nbformat_minor": 2
}
