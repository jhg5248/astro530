{
 "cells": [
  {
   "cell_type": "code",
   "execution_count": 4,
   "metadata": {},
   "outputs": [],
   "source": [
    "\"\"\"The idea is to put any math utility routines that we need to write in this module\"\"\"\n",
    "import numpy as np"
   ]
  },
  {
   "cell_type": "code",
   "execution_count": 23,
   "metadata": {},
   "outputs": [],
   "source": [
    "def integrate(f, xmin, xmax, nsteps):\n",
    "    \"\"\"\n",
    "    Name: \n",
    "        integrate\n",
    "    \n",
    "    Purpose:\n",
    "        Integrate 1D functions using specified gridpoints.\n",
    "    \n",
    "    Explanation: \n",
    "        Integrate using a basic right-handed Riemann sum. \n",
    "    \n",
    "    Calling Seuqence:\n",
    "        integrator, f, xmin, xmax, nsteps, F\n",
    "        \n",
    "    Input/Output:\n",
    "        f - The function to be integrated. Must return a float.\n",
    "        xmin - Lower bound of integration\n",
    "        xmax - Upper bound of integration\n",
    "        nsteps - The number of points to use for computing the integral\n",
    "    \n",
    "    Limitations: If any gridpoints fall on a singularity, the routine will fail. \n",
    "    If there is a divergence not directly evaluated, the integral will fail to converge\n",
    "    and we will get a nonsense answer. \n",
    "        \n",
    "        \n",
    "    \n",
    "    \"\"\"\n",
    "    xgrid = np.linspace(xmin, xmax, nsteps+1)\n",
    "    F = np.sum(f(xgrid[1:]))*(xgrid[1]-xgrid[0])\n",
    "    return F"
   ]
  }
 ],
 "metadata": {
  "kernelspec": {
   "display_name": "Python 3",
   "language": "python",
   "name": "python3"
  },
  "language_info": {
   "codemirror_mode": {
    "name": "ipython",
    "version": 3
   },
   "file_extension": ".py",
   "mimetype": "text/x-python",
   "name": "python",
   "nbconvert_exporter": "python",
   "pygments_lexer": "ipython3",
   "version": "3.7.3"
  }
 },
 "nbformat": 4,
 "nbformat_minor": 2
}
