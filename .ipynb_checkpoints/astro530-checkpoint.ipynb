{
 "cells": [
  {
   "cell_type": "code",
   "execution_count": 161,
   "metadata": {},
   "outputs": [],
   "source": [
    "\"\"\"A generic module for things that don't yet fit in better elsewhere. As we build a codebase,\n",
    "we will refactor into more specific modules.\"\"\"\n",
    "import numpy as np\n",
    "import constants as sc\n",
    "import scipy.special as special\n",
    "import math_tools as mtools\n",
    "import csv\n",
    "import math"
   ]
  },
  {
   "cell_type": "code",
   "execution_count": 42,
   "metadata": {},
   "outputs": [],
   "source": [
    "def planck(v, T):\n",
    "    \"\"\"\n",
    "    Name: \n",
    "        planck\n",
    "    \n",
    "    Purpose:\n",
    "        Return the Planck function for a given temperature and wavenumber.\n",
    "    \n",
    "    Explanation: \n",
    "        Gives the blackbody intensity for a given temperature and wavenumber (inverse wavelength, in micrometers)\n",
    "    \n",
    "    Calling Seuqence:\n",
    "        planck, v, T, B\n",
    "        \n",
    "    Input/Output:\n",
    "        v - The wavenumber, in inverse micrometers (scalar or array)\n",
    "        T - The temperature of the blackbody, in degrees Kelvin (scalar)\n",
    "        B - The blackbody intensity returned (for each v)\n",
    "    \n",
    "    Limitations:\n",
    "        Will throw divide by zero warning for wavenumber zero. \n",
    "        \n",
    "    Notes\n",
    "        Model formula:\n",
    "        .. math:: B_\\\\nu = \\\\frac{2 h \\\\vu^3}{c^2}\\\\frac{1}{e^{h\\\\nu/kT}-1}\n",
    "    \n",
    "    \"\"\"\n",
    "    freq = sc.c * v * 1e4\n",
    "    B =  (2 * sc.h * freq**3 / sc.c**2) * (1/(np.exp(sc.h * freq/(sc.k * T))-1))\n",
    "    return B"
   ]
  },
  {
   "cell_type": "code",
   "execution_count": 43,
   "metadata": {},
   "outputs": [],
   "source": [
    "def h_nu_zero(snu, nu = None, nsteps = 250, xmin = 1e-5, xmax = 1e2):\n",
    "    \"\"\"\n",
    "    Name: \n",
    "        h_nu_plus\n",
    "    \n",
    "    Purpose:\n",
    "        Return the first moment of the intensity.\n",
    "    \n",
    "    Explanation: \n",
    "        Gives the first moment of the intensity, which is the flux dividid by 4*pi\n",
    "    \n",
    "    Calling Seuqence:\n",
    "        H_nu_zero, snu, nsteps, xmax\n",
    "        \n",
    "    Input/Output:\n",
    "        snu - the source function \n",
    "        nsteps - number of grid points\n",
    "        xmax - maximum for integral\n",
    "        \n",
    "    \n",
    "    \"\"\"\n",
    "    if nu is None:\n",
    "        integrand = lambda x: snu(x) * special.expn(2, x)\n",
    "        h_nu = 0.5 * mtools.integral(integrand, xmin, xmax, nsteps)\n",
    "    else:\n",
    "        h_nu = np.zeros(len(nu))\n",
    "        for idx, n in enumerate(nu):\n",
    "            integrand = lambda x: snu(x, n) * special.expn(2, x)\n",
    "            h_nu[idx] = 0.5 * mtools.integral(integrand, xmin, xmax, nsteps)\n",
    "        \n",
    "    return h_nu"
   ]
  },
  {
   "cell_type": "code",
   "execution_count": 44,
   "metadata": {},
   "outputs": [],
   "source": [
    "def h_nu(snu, nu, tau, nsteps = 250, xmin = 1e-5, xmax = 1e2):\n",
    "    \"\"\"\n",
    "    Name: \n",
    "        h_nu_tau\n",
    "    \n",
    "    Purpose:\n",
    "        Return the first moment of the intensity, at arbitrary optical depth\n",
    "    \n",
    "    Explanation: \n",
    "        Gives the first moment of the intensity, which is the flux dividid by 4*pi\n",
    "    \n",
    "    Calling Seuqence:\n",
    "        H_nu, snu, nsteps, xmax\n",
    "        \n",
    "    Input/Output:\n",
    "        snu - the source function \n",
    "        nsteps - number of grid points\n",
    "        xmax - maximum for integral\n",
    "        \n",
    "    \n",
    "    \"\"\"\n",
    "    if nu is None:\n",
    "        integrand = lambda x: snu(x) * special.expn(2, x)\n",
    "        h_nu = 0.5 * mtools.integral(integrand, xmin, xmax, nsteps)\n",
    "    else:\n",
    "        h_nu = np.zeros(len(nu))\n",
    "        for idx, n in enumerate(nu):\n",
    "            integrandu = lambda x: snu(x, n) * special.expn(2, (x - tau))\n",
    "            integrandd = lambda x: snu(x, n) * special.expn(2, (tau - x))\n",
    "            h_nu[idx] = 0.5 * mtools.integral(integrandu, tau + xmin, xmax, nsteps) + 0.5 * mtools.integral(integrandd, tau - xmin, xmin, nsteps)\n",
    "        \n",
    "    return h_nu"
   ]
  },
  {
   "cell_type": "code",
   "execution_count": 45,
   "metadata": {},
   "outputs": [],
   "source": [
    "def h_nu_eb(snu, nsteps = 250):\n",
    "    integrand = lambda x: snu(x) * x\n",
    "    h_nu = 0.5 * mtools.integral(integrand, 0, 1, nsteps, logspace = False)\n",
    "    return h_nu"
   ]
  },
  {
   "cell_type": "code",
   "execution_count": 46,
   "metadata": {},
   "outputs": [],
   "source": [
    "def greyT(Teff, tau):\n",
    "    \"\"\"\n",
    "    Name: \n",
    "        greyT\n",
    "    \n",
    "    Purpose:\n",
    "        Return the temeprature as a function of optical depth in the grey, LTE, first Eddington\n",
    "        case.\n",
    "    \n",
    "    Explanation: \n",
    "        T= Teff * (3/4(tau + 2/3))^1/4\n",
    "    \n",
    "    \n",
    "        \n",
    "    Input/Output:\n",
    "        Teff - The effective temp\n",
    "        tau - scalar optical depth at which to evaluate \n",
    "        T - the returned temperature \n",
    "        \n",
    "    \n",
    "    \"\"\"\n",
    "    return Teff * (3/4*(tau +2/3)) **(1/4)"
   ]
  },
  {
   "cell_type": "code",
   "execution_count": 273,
   "metadata": {},
   "outputs": [],
   "source": [
    "def partition(species, T):\n",
    "    \"\"\"\n",
    "    Name: \n",
    "        partition\n",
    "    \n",
    "    Purpose:\n",
    "        Return the partition function for a specified temperature\n",
    "    \n",
    "    Explanation: \n",
    "        The values are given at 5040/T in the range of 0.2 to 2.0, stepping by 0.2\n",
    "    \n",
    "    \n",
    "    \n",
    "    \"\"\"\n",
    "    with open('C:\\\\Users\\\\lordo\\\\Documents\\\\Classes\\\\Atmospheres\\\\astro530\\\\partit.csv', mode='r') as infile:\n",
    "        reader = csv.reader(infile, delimiter = ' ')\n",
    "        dat = {rows[0]: [10**float(a) if a != '-' else float(\"nan\") for a in rows[1:-1]]for rows in reader}\n",
    "    degreesPerIndex = 5040*2/10\n",
    "    partit = np.zeros(len(T))\n",
    "    for n, t in enumerate(T):\n",
    "        #ie the temperature in units of array index\n",
    "        degreesInIndex = (t - 0.2*5040)/degreesPerIndex \n",
    "        lowerIndex = int(np.floor(degreesInIndex))\n",
    "        if (lowerIndex < 0) or (lowerIndex + 1 > 10):\n",
    "            partit[n] = float(\"nan\")\n",
    "        else:\n",
    "            partit[n] = (dat[species][lowerIndex+1] - dat[species][lowerIndex]) * \\\n",
    "            (degreesInIndex - lowerIndex) + dat[species][lowerIndex]\n",
    "    return partit"
   ]
  },
  {
   "cell_type": "code",
   "execution_count": 274,
   "metadata": {},
   "outputs": [],
   "source": [
    "def phi(species, T):\n",
    "    \"\"\"\n",
    "    Name: \n",
    "        phi\n",
    "    \n",
    "    Purpose:\n",
    "        Return the ratio of singly ionized to unionized. \n",
    "    \"\"\"\n",
    "    with open('C:\\\\Users\\\\lordo\\\\Documents\\\\Classes\\\\Atmospheres\\\\astro530\\\\ioniz.csv', mode='r') as infile:\n",
    "        reader = csv.reader(infile, delimiter = ' ', skipinitialspace = True)\n",
    "        dat = {rows[1]: [float(a) for a in rows[3:]] for rows in reader}\n",
    "    partitionLow = partition(species, T)\n",
    "    partitionHigh = partition(species + \"+\", T)\n",
    "    return 1.2020e9 * partitionHigh/partitionLow * (5040/T)**(-5/2) * 10**(-5040 * dat[species][0]/T)"
   ]
  },
  {
   "cell_type": "code",
   "execution_count": 275,
   "metadata": {},
   "outputs": [],
   "source": [
    "def kHminusBF(Pe, T, v):\n",
    "    \"\"\"\n",
    "    Name:\n",
    "        kHminusBF\n",
    "        \n",
    "    Purpose: Returns the H- bound free opacity for a given pressure, temperature, and wavenumber\n",
    "    \"\"\"\n",
    "    coeffs = np.array([1.99654, -1.18267e-5, 2.64243e-6, -4.40524e-10, 3.23992e-14, -1.39568e-18, 2.78701e-23])\n",
    "    lambd = 1e4/v\n",
    "    theta = 5040/T\n",
    "    alphabf = sum(np.array([1, lambd, lambd**2, lambd**3, lambd**4, lambd**5, lambd**6]) * coeffs)\n",
    "    return 4.158e-10 * 1e-18 * alphabf * Pe * theta**(5/2) * 10**(0.754*theta)"
   ]
  },
  {
   "cell_type": "code",
   "execution_count": 276,
   "metadata": {},
   "outputs": [],
   "source": [
    "def kHminusFF(Pe, T, v):\n",
    "    \"\"\"\n",
    "    Name:\n",
    "        kHminusFF\n",
    "        \n",
    "    Purpose: Returns the H- free free opacity for a given pressure, temperature, and wavenumber\n",
    "    \"\"\"\n",
    "    lambd = 1e4/v\n",
    "    theta = 5040/T\n",
    "    x = np.log10(lambd)\n",
    "    f0 = -2.2763 - 1.685 * x + 0.76661 * x**2 - 0.053346 * x**3\n",
    "    f1 = 15.2827 - 9.2846 * x + 1.99381 * x**2 - 0.142631 * x**3\n",
    "    f2 = -197.789 + 190.266 * x - 67.9775 * x**2 + 10.6913 * x**3 - 0.625151 * x**4\n",
    "    return 1e-26 * Pe * 10**(f0 + f1 * np.log10(theta) + f2 * np.log10(theta)**2)"
   ]
  },
  {
   "cell_type": "code",
   "execution_count": 277,
   "metadata": {},
   "outputs": [],
   "source": [
    "def gbf(lambd, n):\n",
    "    R = 1.0968e-3\n",
    "    return 1 - (0.3456/(lambd * R)**(1/3) ) * ((lambd * R)/n**2 - 1/2)"
   ]
  },
  {
   "cell_type": "code",
   "execution_count": 278,
   "metadata": {},
   "outputs": [],
   "source": [
    "def gff(lambd, T):\n",
    "    R = 1.0968e-3\n",
    "    theta = 5040/T\n",
    "    chi = 1.2398e4/lambd\n",
    "    return 1 + (0.3456/(lambd * R)**(1/3) ) * ((np.log10(np.e))/(theta * chi) + 1/2)"
   ]
  },
  {
   "cell_type": "code",
   "execution_count": 279,
   "metadata": {},
   "outputs": [],
   "source": [
    "def kHBF(T, v):\n",
    "    \"\"\"\n",
    "    Name:\n",
    "        kHBF\n",
    "        \n",
    "    Purpose: Returns the H bound free opacity for a given pressure, temperature, and wavenumber\n",
    "    \"\"\"\n",
    "    lambd = 1e4/v\n",
    "    theta = 5040/T\n",
    "    n0 = np.zeros(len(v))\n",
    "    for i, l in enumerate(lambd):\n",
    "        if l < 912:\n",
    "            n0[i] = 1\n",
    "        elif l >= 912 and l <= 3746:\n",
    "            n0[i] = 2\n",
    "        elif l > 3746 and l <= 8206:\n",
    "            n0[i] = 3   \n",
    "        elif l > 8206 and l <= 14588:\n",
    "            n0[i] = 4\n",
    "        else:\n",
    "            n0[i] = 5    \n",
    "    chi = lambda n: 13.6 * (1 - 1/n**2)\n",
    "    chi3 = 13.6 * ( 1 - (1/(n0 + 3)**2))\n",
    "    ns = [n0, n0+1, n0+2]\n",
    "    term1 = sum([gbf(lambd, n)/n**3 * 10**(-theta * chi(n)) for n in ns])\n",
    "    term2 = np.log10(np.e)/(2 * theta * 13.6) * (10**(-chi3 * theta) - 10**(-13.6 *theta))\n",
    "    return 1.0449e-26 *lambd**3 * (term1+term2)\n",
    "    "
   ]
  },
  {
   "cell_type": "code",
   "execution_count": 280,
   "metadata": {},
   "outputs": [],
   "source": [
    "def kHFF(T, v):\n",
    "    \"\"\"\n",
    "    Name:\n",
    "        kHFF\n",
    "        \n",
    "    Purpose: Returns the neutral hydrogen free free opacity for a given temperature, and wavenumber\n",
    "    \"\"\"\n",
    "    lambd = 1e4/v\n",
    "    theta = 5040/T\n",
    "    return 1.0449e-26 * lambd**3 * gff(lambd, T) * np.log10(np.e)/(2*theta*13.6) * 10**(-theta * 13.6)"
   ]
  },
  {
   "cell_type": "code",
   "execution_count": 281,
   "metadata": {},
   "outputs": [],
   "source": [
    "def kTot(T, Pe, v):\n",
    "    lambd = 1e4/v\n",
    "    chi = 1.2398e4/lambd\n",
    "    theta = 5040/T\n",
    "    phifactor = 1/(1 + phi(\"H\", T)/Pe)\n",
    "    return ((kHBF(T, v) + kHFF(T, v) + kHminusBF(Pe, T, v)) * (1 - 10**(-chi * theta)) + kHminusFF(Pe, T, v)) * phifactor"
   ]
  },
  {
   "cell_type": "code",
   "execution_count": 330,
   "metadata": {},
   "outputs": [],
   "source": [
    "def Pe(T, Pg):\n",
    "    #atomic\telement\tweight\tA\tlogA\tlogA12\n",
    "    abundances = []\n",
    "    with open('C:\\\\Users\\\\lordo\\\\Documents\\\\Classes\\\\Atmospheres\\\\astro530\\\\SolarAbundance.txt', mode='r') as infile:\n",
    "        reader = csv.reader(infile, delimiter = '\\t')\n",
    "        dat = {rows[1]: [float(a) if a != '' else 0 for a in rows[2:-1]] for rows in reader}   \n",
    "    sahas = []\n",
    "    abundances = []\n",
    "    for species in dat.keys():\n",
    "        myPhi = phi(species, T)\n",
    "        myPhi = [k if not math.isnan(k) else 0 for k in myPhi]\n",
    "        sahas.append(myPhi)\n",
    "        abundances.append(dat[species][1] )\n",
    "    sahas = np.array(sahas)\n",
    "    abundances = np.array(abundances)\n",
    "    Pes = np.array([Pg/2 if temp > 9000 else Pg**0.5 for temp in T])\n",
    "    PeOld = np.zeros(len(Pes))\n",
    "    #print(np.shape(np.array(sahas)), abundances)\n",
    "    n = 0\n",
    "    while True in np.greater(np.abs((Pes - PeOld))/Pes, .001):\n",
    "        PeOld = Pes\n",
    "        n+= 1\n",
    "        #print(n)\n",
    "    #print(numerator, abundances, sahas)\n",
    "        numerator = abundances[:, np.newaxis] * (sahas[:] / PeOld) / (1 + sahas[:]/PeOld)\n",
    "        denominator = abundances[:, np.newaxis] * ( 1 + numerator)\n",
    "        Pes = Pg * sum(numerator)/sum(denominator)\n",
    "    #print(numerator, Pes, PeOld)\n",
    "    return Pes"
   ]
  },
  {
   "cell_type": "code",
   "execution_count": 71,
   "metadata": {},
   "outputs": [],
   "source": [
    "with open('C:\\\\Users\\\\lordo\\\\Documents\\\\Classes\\\\Atmospheres\\\\astro530\\\\SolarAbundance.txt', mode='r') as infile:\n",
    "        reader = csv.reader(infile, delimiter = '\\t')\n",
    "        dat = {rows[1]: [float(a) if a != '' else float(\"nan\") for a in rows[2:-1]] for rows in reader}"
   ]
  },
  {
   "cell_type": "code",
   "execution_count": 159,
   "metadata": {},
   "outputs": [
    {
     "data": {
      "text/plain": [
       "True"
      ]
     },
     "execution_count": 159,
     "metadata": {},
     "output_type": "execute_result"
    }
   ],
   "source": [
    "float(\"nan\") != float(\"nan\")"
   ]
  },
  {
   "cell_type": "code",
   "execution_count": 207,
   "metadata": {},
   "outputs": [
    {
     "name": "stdout",
     "output_type": "stream",
     "text": [
      "hi\n"
     ]
    }
   ],
   "source": [
    "if [False, False, False]:\n",
    "    print(\"hi\")"
   ]
  },
  {
   "cell_type": "code",
   "execution_count": null,
   "metadata": {},
   "outputs": [],
   "source": []
  }
 ],
 "metadata": {
  "kernelspec": {
   "display_name": "Python 3",
   "language": "python",
   "name": "python3"
  },
  "language_info": {
   "codemirror_mode": {
    "name": "ipython",
    "version": 3
   },
   "file_extension": ".py",
   "mimetype": "text/x-python",
   "name": "python",
   "nbconvert_exporter": "python",
   "pygments_lexer": "ipython3",
   "version": "3.7.3"
  }
 },
 "nbformat": 4,
 "nbformat_minor": 2
}
