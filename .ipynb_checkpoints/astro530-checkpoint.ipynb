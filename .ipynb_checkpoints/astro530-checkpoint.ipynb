{
 "cells": [
  {
   "cell_type": "code",
   "execution_count": 1,
   "metadata": {},
   "outputs": [],
   "source": [
    "\"\"\"Do astro 530 things\"\"\"\n",
    "import numpy as np\n",
    "import constants as sc\n"
   ]
  },
  {
   "cell_type": "code",
   "execution_count": 5,
   "metadata": {},
   "outputs": [],
   "source": [
    "def planck(v, T):\n",
    "    \"\"\"\n",
    "    Name: \n",
    "        Planck\n",
    "    \n",
    "    Purpose:\n",
    "        Return the Planck function for a given temperature and wavenumber.\n",
    "    \n",
    "    Explanation: \n",
    "        Gives the blackbody intensity for a given temperature and wavenumber (inverse wavelength, in micrometers)\n",
    "    \n",
    "    Calling Seuqence:\n",
    "        planck, v, T, B\n",
    "        \n",
    "    Input/Output:\n",
    "        v - The wavenumber, in inverse micrometers (scalar or array)\n",
    "        T - The temperature of the blackbody, in degrees Kelvin (scalar)\n",
    "        B - The blackbody intensity returned (for each v)\n",
    "    \n",
    "    Limitations:\n",
    "        Will throw divide by zero warning for wavenumber zero. \n",
    "    \n",
    "    \"\"\"\n",
    "    freq = sc.c * v * 1e4\n",
    "    B =  (2 * sc.h * freq**3 / sc.c**2) * (1/(np.exp(sc.h*freq/(sc.k*T))-1))\n",
    "    return B"
   ]
  },
  {
   "cell_type": "code",
   "execution_count": null,
   "metadata": {},
   "outputs": [],
   "source": []
  }
 ],
 "metadata": {
  "kernelspec": {
   "display_name": "Python 3",
   "language": "python",
   "name": "python3"
  },
  "language_info": {
   "codemirror_mode": {
    "name": "ipython",
    "version": 3
   },
   "file_extension": ".py",
   "mimetype": "text/x-python",
   "name": "python",
   "nbconvert_exporter": "python",
   "pygments_lexer": "ipython3",
   "version": "3.7.3"
  }
 },
 "nbformat": 4,
 "nbformat_minor": 2
}
