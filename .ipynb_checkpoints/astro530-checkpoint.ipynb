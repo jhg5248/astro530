{
 "cells": [
  {
   "cell_type": "code",
   "execution_count": 1,
   "metadata": {},
   "outputs": [],
   "source": [
    "\"\"\"A generic module for things that don't yet fit in better elsewhere. As we build a codebase,\n",
    "we will refactor into more specific modules.\"\"\"\n",
    "import numpy as np\n",
    "import constants as sc\n",
    "import math_tools as mtools"
   ]
  },
  {
   "cell_type": "code",
   "execution_count": null,
   "metadata": {},
   "outputs": [],
   "source": []
  },
  {
   "cell_type": "code",
   "execution_count": 2,
   "metadata": {},
   "outputs": [],
   "source": [
    "def planck(v, T):\n",
    "    \"\"\"\n",
    "    Name: \n",
    "        planck\n",
    "    \n",
    "    Purpose:\n",
    "        Return the Planck function for a given temperature and wavenumber.\n",
    "    \n",
    "    Explanation: \n",
    "        Gives the blackbody intensity for a given temperature and wavenumber (inverse wavelength, in micrometers)\n",
    "    \n",
    "    Calling Seuqence:\n",
    "        planck, v, T, B\n",
    "        \n",
    "    Input/Output:\n",
    "        v - The wavenumber, in inverse micrometers (scalar or array)\n",
    "        T - The temperature of the blackbody, in degrees Kelvin (scalar)\n",
    "        B - The blackbody intensity returned (for each v)\n",
    "    \n",
    "    Limitations:\n",
    "        Will throw divide by zero warning for wavenumber zero. \n",
    "        \n",
    "    Notes\n",
    "        Model formula:\n",
    "        .. math:: B_\\\\nu = \\\\frac{2 h \\\\vu^3}{c^2}\\\\frac{1}{e^{h\\\\nu/kT}-1}\n",
    "    \n",
    "    \"\"\"\n",
    "    freq = sc.c * v * 1e4\n",
    "    B =  (2 * sc.h * freq**3 / sc.c**2) * (1/(np.exp(sc.h * freq/(sc.k * T))-1))\n",
    "    return B"
   ]
  },
  {
   "cell_type": "code",
   "execution_count": 4,
   "metadata": {},
   "outputs": [],
   "source": [
    "def h_nu_zero(snu, nsteps = 250, xmin = 1e-5, xmax = 1e2):\n",
    "    \"\"\"\n",
    "    Name: \n",
    "        h_nu_plus\n",
    "    \n",
    "    Purpose:\n",
    "        Return the first moment of the intensity.\n",
    "    \n",
    "    Explanation: \n",
    "        Gives the first moment of the intensity, which is the flux dividid by 4*pi\n",
    "    \n",
    "    Calling Seuqence:\n",
    "        H_nu_zero, snu, nsteps, xmax\n",
    "        \n",
    "    Input/Output:\n",
    "        snu - the source function \n",
    "        nsteps - number of grid points\n",
    "        xmax - maximum for integral\n",
    "        \n",
    "    \n",
    "    \"\"\"\n",
    "    integrand = lambda x: snu(x) * mtools.e_n(2, x)\n",
    "    h_nu = 0.5 * mtools.integral(integrand, xmin, xmax, nsteps)\n",
    "    return h_nu"
   ]
  },
  {
   "cell_type": "code",
   "execution_count": 7,
   "metadata": {},
   "outputs": [],
   "source": [
    "def h_nu_eb(snu, nsteps = 250):\n",
    "    integrand = lambda x: snu(x) * x\n",
    "    h_nu = 0.5 * mtools.integral(integrand, 0, 1, nsteps)\n",
    "    return h_nu"
   ]
  },
  {
   "cell_type": "code",
   "execution_count": null,
   "metadata": {},
   "outputs": [],
   "source": [
    "#math_tools.ipynb"
   ]
  }
 ],
 "metadata": {
  "kernelspec": {
   "display_name": "Python 3",
   "language": "python",
   "name": "python3"
  },
  "language_info": {
   "codemirror_mode": {
    "name": "ipython",
    "version": 3
   },
   "file_extension": ".py",
   "mimetype": "text/x-python",
   "name": "python",
   "nbconvert_exporter": "python",
   "pygments_lexer": "ipython3",
   "version": "3.7.3"
  }
 },
 "nbformat": 4,
 "nbformat_minor": 2
}
