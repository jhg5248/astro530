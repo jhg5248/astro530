{
 "cells": [
  {
   "cell_type": "code",
   "execution_count": 3,
   "metadata": {},
   "outputs": [
    {
     "ename": "FileNotFoundError",
     "evalue": "[Errno 2] No such file or directory: 'astro530'",
     "output_type": "error",
     "traceback": [
      "\u001b[0;31m---------------------------------------------------------------------------\u001b[0m",
      "\u001b[0;31mFileNotFoundError\u001b[0m                         Traceback (most recent call last)",
      "\u001b[0;32m<ipython-input-3-42cf585653dc>\u001b[0m in \u001b[0;36m<module>\u001b[0;34m\u001b[0m\n\u001b[1;32m      2\u001b[0m we will refactor into more specific modules.\"\"\"\n\u001b[1;32m      3\u001b[0m \u001b[0;32mimport\u001b[0m \u001b[0mos\u001b[0m\u001b[0;34m\u001b[0m\u001b[0;34m\u001b[0m\u001b[0m\n\u001b[0;32m----> 4\u001b[0;31m \u001b[0mos\u001b[0m\u001b[0;34m.\u001b[0m\u001b[0mchdir\u001b[0m\u001b[0;34m(\u001b[0m\u001b[0;34m\"astro530\"\u001b[0m\u001b[0;34m)\u001b[0m\u001b[0;34m\u001b[0m\u001b[0;34m\u001b[0m\u001b[0m\n\u001b[0m",
      "\u001b[0;31mFileNotFoundError\u001b[0m: [Errno 2] No such file or directory: 'astro530'"
     ]
    }
   ],
   "source": [
    "\"\"\"A generic module for things that don't yet fit in better elsewhere. As we build a codebase,\n",
    "we will refactor into more specific modules.\"\"\"\n",
    "import os\n",
    "os.chdir(\"astro530\")\n"
   ]
  },
  {
   "cell_type": "code",
   "execution_count": 4,
   "metadata": {},
   "outputs": [],
   "source": [
    "import numpy as np\n",
    "import constants as sc\n",
    "import scipy.special as special\n",
    "import math_tools as mtools\n",
    "import csv\n",
    "import math\n",
    "import pandas as pd\n",
    "import matplotlib.pyplot as plt\n",
    "from scipy.interpolate import interp1d\n",
    "\n",
    "from scipy.interpolate import griddata"
   ]
  },
  {
   "cell_type": "code",
   "execution_count": 5,
   "metadata": {},
   "outputs": [],
   "source": [
    "def planck(v, T):\n",
    "    \"\"\"\n",
    "    Name: \n",
    "        planck\n",
    "    \n",
    "    Purpose:\n",
    "        Return the Planck function for a given temperature and wavenumber.\n",
    "    \n",
    "    Explanation: \n",
    "        Gives the blackbody intensity for a given temperature and wavenumber (inverse wavelength, in micrometers)\n",
    "    \n",
    "    Calling Seuqence:\n",
    "        planck, v, T, B\n",
    "        \n",
    "    Input/Output:\n",
    "        v - The wavenumber, in inverse micrometers (scalar or array)\n",
    "        T - The temperature of the blackbody, in degrees Kelvin (scalar)\n",
    "        B - The blackbody intensity returned (for each v)\n",
    "    \n",
    "    Limitations:\n",
    "        Will throw divide by zero warning for wavenumber zero. \n",
    "        \n",
    "    Notes\n",
    "        Model formula:\n",
    "        .. math:: B_\\\\nu = \\\\frac{2 h \\\\vu^3}{c^2}\\\\frac{1}{e^{h\\\\nu/kT}-1}\n",
    "    \n",
    "    \"\"\"\n",
    "    freq = sc.c * v[:, np.newaxis] * 1e4\n",
    "    B =  (2 * sc.h * freq**3 / sc.c**2) * (1/(np.exp(sc.h * freq/(sc.k * T))-1))\n",
    "    return B"
   ]
  },
  {
   "cell_type": "code",
   "execution_count": 6,
   "metadata": {},
   "outputs": [],
   "source": [
    "def h_nu_zero(snu, nu = None, nsteps = 1000, xmin = 3e-7, xmax = 1e2):\n",
    "    \"\"\"\n",
    "    Name: \n",
    "        h_nu_plus\n",
    "    \n",
    "    Purpose:\n",
    "        Return the first moment of the intensity.\n",
    "    \n",
    "    Explanation: \n",
    "        Gives the first moment of the intensity, which is the flux dividid by 4*pi\n",
    "    \n",
    "    Calling Seuqence:\n",
    "        H_nu_zero, snu, nsteps, xmax\n",
    "        \n",
    "    Input/Output:\n",
    "        snu - the source function \n",
    "        nsteps - number of grid points\n",
    "        xmax - maximum for integral\n",
    "        \n",
    "    \n",
    "    \"\"\"\n",
    "    if nu is None:\n",
    "        integrand = lambda x: snu(x) * special.expn(2, x)\n",
    "        h_nu = 0.5 * mtools.integral(integrand, xmin, xmax, nsteps)\n",
    "    else:\n",
    "        h_nu = np.zeros(len(nu))\n",
    "        for idx, n in enumerate(nu):\n",
    "            integrand = lambda x: snu(x, n) * special.expn(2, x)\n",
    "            h_nu[idx] = 0.5 * mtools.integral(integrand, xmin, xmax, nsteps)\n",
    "        \n",
    "    return h_nu"
   ]
  },
  {
   "cell_type": "code",
   "execution_count": 7,
   "metadata": {},
   "outputs": [],
   "source": [
    "def h_nu(snu, nu, tau, nsteps = 250, xmin = 3e-7, xmax = 1e2):\n",
    "    \"\"\"\n",
    "    Name: \n",
    "        h_nu_tau\n",
    "    \n",
    "    Purpose:\n",
    "        Return the first moment of the intensity, at arbitrary optical depth\n",
    "    \n",
    "    Explanation: \n",
    "        Gives the first moment of the intensity, which is the flux dividid by 4*pi\n",
    "    \n",
    "    Calling Seuqence:\n",
    "        H_nu, snu, nsteps, xmax\n",
    "        \n",
    "    Input/Output:\n",
    "        snu - the source function \n",
    "        nsteps - number of grid points\n",
    "        xmax - maximum for integral\n",
    "        \n",
    "    \n",
    "    \"\"\"\n",
    "    if nu is None:\n",
    "        integrand = lambda x: snu(x) * special.expn(2, x)\n",
    "        h_nu = 0.5 * mtools.integral(integrand, xmin, xmax, nsteps)\n",
    "    else:\n",
    "        h_nu = np.zeros(len(nu))\n",
    "        for idx, n in enumerate(nu):\n",
    "            integrandu = lambda x: snu(x, n) * special.expn(2, (x - tau))\n",
    "            integrandd = lambda x: snu(x, n) * special.expn(2, (tau - x))\n",
    "            h_nu[idx] = 0.5 * mtools.integral(integrandu, tau + xmin, xmax, nsteps) + 0.5 * mtools.integral(integrandd, tau - xmin, xmin, nsteps)\n",
    "        \n",
    "    return h_nu"
   ]
  },
  {
   "cell_type": "code",
   "execution_count": 8,
   "metadata": {},
   "outputs": [],
   "source": [
    "def h_nu_eb(snu, nsteps = 250):\n",
    "    integrand = lambda x: snu(x) * x\n",
    "    h_nu = 0.5 * mtools.integral(integrand, 0, 1, nsteps, logspace = False)\n",
    "    return h_nu"
   ]
  },
  {
   "cell_type": "code",
   "execution_count": 9,
   "metadata": {},
   "outputs": [],
   "source": [
    "def greyT(Teff, tau):\n",
    "    \"\"\"\n",
    "    Name: \n",
    "        greyT\n",
    "    \n",
    "    Purpose:\n",
    "        Return the temeprature as a function of optical depth in the grey, LTE, first Eddington\n",
    "        case.\n",
    "    \n",
    "    Explanation: \n",
    "        T= Teff * (3/4(tau + 2/3))^1/4\n",
    "    \n",
    "    \n",
    "        \n",
    "    Input/Output:\n",
    "        Teff - The effective temp\n",
    "        tau - scalar optical depth at which to evaluate \n",
    "        T - the returned temperature \n",
    "        \n",
    "    \n",
    "    \"\"\"\n",
    "    return Teff * (3/4*(tau +2/3)) **(1/4)"
   ]
  },
  {
   "cell_type": "code",
   "execution_count": 10,
   "metadata": {},
   "outputs": [],
   "source": [
    "def partition(species, T):\n",
    "    \"\"\"\n",
    "    Name: \n",
    "        partition\n",
    "    \n",
    "    Purpose:\n",
    "        Return the partition function for a specified temperature\n",
    "    \n",
    "    Explanation: \n",
    "        The values are given at 5040/T in the range of 0.2 to 2.0, stepping by 0.2\n",
    "    \n",
    "    \n",
    "    \n",
    "    \"\"\"\n",
    "    with open('partit.csv', mode='r') as infile:\n",
    "        reader = csv.reader(infile, delimiter = ' ')\n",
    "        dat = {rows[0]: [10**float(a) if a != '-' else float(\"nan\") for a in rows[1:-1]]for rows in reader}\n",
    "    degreesPerIndex = 5040*2/10\n",
    "    if np.ndim(T) > 0:\n",
    "        partit = np.zeros(len(T))\n",
    "        for n, t in enumerate(T):\n",
    "            #ie the temperature in units of array index\n",
    "            degreesInIndex = (t - 0.2*5040)/degreesPerIndex \n",
    "            lowerIndex = int(np.floor(degreesInIndex))\n",
    "            if (lowerIndex < 0) or (lowerIndex + 1 > 10):\n",
    "                partit[n] = float(\"nan\")\n",
    "            else:\n",
    "                partit[n] = (dat[species][lowerIndex+1] - dat[species][lowerIndex]) * \\\n",
    "                (degreesInIndex - lowerIndex) + dat[species][lowerIndex]\n",
    "    else:\n",
    "        degreesInIndex = (T - 0.2*5040)/degreesPerIndex \n",
    "        lowerIndex = int(np.floor(degreesInIndex))\n",
    "        if (lowerIndex < 0) or (lowerIndex + 1 > 10):\n",
    "            partit = float(\"nan\")\n",
    "        else:\n",
    "            partit = (dat[species][lowerIndex+1] - dat[species][lowerIndex]) * \\\n",
    "            (degreesInIndex - lowerIndex) + dat[species][lowerIndex]\n",
    "    return partit"
   ]
  },
  {
   "cell_type": "code",
   "execution_count": 11,
   "metadata": {},
   "outputs": [],
   "source": [
    "def phi(species, T):\n",
    "    \"\"\"\n",
    "    Name: \n",
    "        phi\n",
    "    \n",
    "    Purpose:\n",
    "        Return the ratio of singly ionized to unionized. \n",
    "    \"\"\"\n",
    "    with open('ioniz.csv', mode='r') as infile:\n",
    "        reader = csv.reader(infile, delimiter = ' ', skipinitialspace = True)\n",
    "        dat = {rows[1]: [float(a) for a in rows[3:]] for rows in reader}\n",
    "    partitionLow = partition(species, T)\n",
    "    if species == \"H-\":\n",
    "        partitionHigh = partition(\"H\", T)\n",
    "    else:\n",
    "        partitionHigh = partition(species + \"+\", T)\n",
    "    return 1.2020e9 * partitionHigh/partitionLow * (5040/T)**(-5/2) * 10**(-5040 * dat[species][0]/T)"
   ]
  },
  {
   "cell_type": "code",
   "execution_count": 12,
   "metadata": {},
   "outputs": [],
   "source": [
    "def kHminusBF(Pe, T, v):\n",
    "    \"\"\"\n",
    "    Name:\n",
    "        kHminusBF\n",
    "        \n",
    "    Purpose: Returns the H- bound free opacity for a given pressure, temperature, and wavenumber\n",
    "    \"\"\"\n",
    "    coeffs = np.array([1.99654, -1.18267e-5, 2.64243e-6, -4.40524e-10, 3.23992e-14, -1.39568e-18, 2.78701e-23])\n",
    "    lambd = 1e4/v\n",
    "    theta = 5040/T\n",
    "    alphabf = sum(np.array([1, lambd, lambd**2, lambd**3, lambd**4, lambd**5, lambd**6]) * coeffs)\n",
    "    return 4.158e-10 * 1e-18 * alphabf * Pe * theta**(5/2) * 10**(0.754*theta)"
   ]
  },
  {
   "cell_type": "code",
   "execution_count": 13,
   "metadata": {},
   "outputs": [],
   "source": [
    "def kHminusFF(Pe, T, v):\n",
    "    \"\"\"\n",
    "    Name:\n",
    "        kHminusFF\n",
    "        \n",
    "    Purpose: Returns the H- free free opacity for a given pressure, temperature, and wavenumber\n",
    "    \"\"\"\n",
    "    lambd = 1e4/v\n",
    "    theta = 5040/T\n",
    "    x = np.log10(lambd)\n",
    "    f0 = -2.2763 - 1.685 * x + 0.76661 * x**2 - 0.053346 * x**3\n",
    "    f1 = 15.2827 - 9.2846 * x + 1.99381 * x**2 - 0.142631 * x**3\n",
    "    f2 = -197.789 + 190.266 * x - 67.9775 * x**2 + 10.6913 * x**3 - 0.625151 * x**4\n",
    "    return 1e-26 * Pe * 10**(f0 + f1 * np.log10(theta) + f2 * np.log10(theta)**2)"
   ]
  },
  {
   "cell_type": "code",
   "execution_count": 14,
   "metadata": {},
   "outputs": [],
   "source": [
    "def gbf(lambd, n):\n",
    "    R = 1.0968e-3\n",
    "    return 1 - (0.3456/(lambd * R)**(1/3) ) * ((lambd * R)/n**2 - 1/2)"
   ]
  },
  {
   "cell_type": "code",
   "execution_count": 15,
   "metadata": {},
   "outputs": [],
   "source": [
    "def gff(lambd, T):\n",
    "    R = 1.0968e-3\n",
    "    theta = 5040/T\n",
    "    chi = 1.2398e4/lambd\n",
    "    return 1 + (0.3456/(lambd * R)**(1/3) ) * ((np.log10(np.e))/(theta * chi) + 1/2)"
   ]
  },
  {
   "cell_type": "code",
   "execution_count": 16,
   "metadata": {},
   "outputs": [],
   "source": [
    "def kHBF(T, v):\n",
    "    \"\"\"\n",
    "    Name:\n",
    "        kHBF\n",
    "        \n",
    "    Purpose: Returns the H bound free opacity for a given pressure, temperature, and wavenumber\n",
    "    \"\"\"\n",
    "    lambd = 1e4/v\n",
    "    theta = 5040/T\n",
    "    n0 = np.zeros(len(v))\n",
    "    for i, l in enumerate(lambd):\n",
    "        if l < 912:\n",
    "            n0[i] = 1\n",
    "        elif l >= 912 and l <= 3746:\n",
    "            n0[i] = 2\n",
    "        elif l > 3746 and l <= 8206:\n",
    "            n0[i] = 3   \n",
    "        elif l > 8206 and l <= 14588:\n",
    "            n0[i] = 4\n",
    "        else:\n",
    "            n0[i] = 5    \n",
    "    chi = lambda n: 13.6 * (1 - 1/n**2)\n",
    "    chi3 = 13.6 * ( 1 - (1/(n0 + 3)**2))\n",
    "    ns = [n0, n0+1, n0+2]\n",
    "    term1 = sum([gbf(lambd, n)/n**3 * 10**(-theta * chi(n)) for n in ns])\n",
    "    term2 = np.log10(np.e)/(2 * theta * 13.6) * (10**(-chi3 * theta) - 10**(-13.6 *theta))\n",
    "    return 1.0449e-26 *lambd**3 * (term1+term2)\n",
    "    "
   ]
  },
  {
   "cell_type": "code",
   "execution_count": 17,
   "metadata": {},
   "outputs": [],
   "source": [
    "def kHFF(T, v):\n",
    "    \"\"\"\n",
    "    Name:\n",
    "        kHFF\n",
    "        \n",
    "    Purpose: Returns the neutral hydrogen free free opacity for a given temperature, and wavenumber\n",
    "    \"\"\"\n",
    "    lambd = 1e4/v\n",
    "    theta = 5040/T\n",
    "    return 1.0449e-26 * lambd**3 * gff(lambd, T) * np.log10(np.e)/(2*theta*13.6) * 10**(-theta * 13.6)"
   ]
  },
  {
   "cell_type": "code",
   "execution_count": 18,
   "metadata": {},
   "outputs": [],
   "source": [
    "def ke(T, Pe, Pg, abundances):\n",
    "    return 0.6648e-24 * Pe/(Pg - Pe) * sum(abundances)"
   ]
  },
  {
   "cell_type": "code",
   "execution_count": 19,
   "metadata": {},
   "outputs": [],
   "source": [
    "def kTot(T, Pe, v):\n",
    "    lambd = 1e4/v\n",
    "    chi = 1.2398e4/lambd\n",
    "    theta = 5040/T\n",
    "    phifactor = 1/(1 + phi(\"H\", T)/Pe)\n",
    "    return ((kHBF(T, v) + kHFF(T, v) + kHminusBF(Pe, T, v)) * (1 - 10**(-chi * theta)) + kHminusFF(Pe, T, v)) * phifactor"
   ]
  },
  {
   "cell_type": "code",
   "execution_count": 20,
   "metadata": {},
   "outputs": [],
   "source": [
    "def Pe(T, Pg, dat = None):\n",
    "    #atomic\telement\tweight\tA\tlogA\tlogA12\n",
    "    abundances = []\n",
    "    if np.ndim(T) == 0:\n",
    "        T = np.array([T])\n",
    "    if dat is None:\n",
    "        with open('SolarAbundance.txt', mode='r') as infile:\n",
    "            reader = csv.reader(infile, delimiter = '\\t')\n",
    "            dat = {rows[1]: [float(a) if a != '' else 0 for a in rows[2:-1]] for rows in reader}   \n",
    "    sahas = []\n",
    "    abundances = []\n",
    "    for species in dat.keys():\n",
    "        myPhi = phi(species, T)\n",
    "        myPhi = [k if not math.isnan(k) else 0 for k in myPhi]\n",
    "        sahas.append(myPhi)\n",
    "        abundances.append(dat[species][1] )\n",
    "    sahas = np.array(sahas)\n",
    "    abundances = np.array(abundances)\n",
    "    Pes = np.array([Pg/2 if temp > 9000 else Pg**0.5 for temp in T])\n",
    "    #print(np.shape(np.array(sahas)), abundances)\n",
    "    n = 0\n",
    "    PeOld = np.zeros(len(Pes))\n",
    "    while True in np.greater(np.abs((Pes - PeOld))/Pes, .001):\n",
    "        PeOld = Pes\n",
    "        n+= 1\n",
    "        #print(n)\n",
    "        #print(np.shape(abundances), np.shape(sahas), np.shape(PeOld))\n",
    "        numerator =  (sahas[:] / PeOld) / (1 + sahas[:]/PeOld)\n",
    "        denominator =  ( 1 + numerator)\n",
    "        Pes = Pg * sum(abundances[:, np.newaxis] * numerator)/sum(abundances[:, np.newaxis] * denominator)\n",
    "    #print(numerator, Pes, PeOld)\n",
    "    return Pes"
   ]
  },
  {
   "cell_type": "code",
   "execution_count": 21,
   "metadata": {},
   "outputs": [],
   "source": [
    "def hjerting(u, a):\n",
    "    return np.real(special.wofz(u + 1j * a))"
   ]
  },
  {
   "cell_type": "code",
   "execution_count": 51,
   "metadata": {},
   "outputs": [],
   "source": [
    "class valiic:\n",
    "    def __init__(self):\n",
    "        self.valiic = pd.read_csv('VALIIIC_sci_e.txt', delimiter = ' ', skipinitialspace = True)\n",
    "        self.tau = interp1d(self.valiic['h'], self.valiic['tau_500'], kind = 'cubic')\n",
    "        self.T = interp1d(self.valiic['h'], self.valiic['T'], kind = 'cubic')\n",
    "        self.nh = interp1d(self.valiic['h'], self.valiic['n_H'], kind = 'cubic')\n",
    "        self.ne = interp1d(self.valiic['h'], self.valiic['n_e'], kind = 'cubic')\n",
    "        self.ptot = interp1d(self.valiic['h'], self.valiic['Ptotal'], kind = 'cubic')\n",
    "        self.pgas = interp1d(self.valiic['h'], self.valiic['Pgas/Ptotal']*self.valiic['Ptotal'], kind = 'cubic')\n",
    "        self.v = interp1d(self.valiic['h'], self.valiic['V'], kind = 'cubic')\n",
    "        self.rho = interp1d(self.valiic['h'], self.valiic['rho'])\n",
    "        self.source = None\n",
    "        \n",
    "        with open('SolarAbundance.txt', mode='r') as infile:\n",
    "            reader = csv.reader(infile, delimiter = '\\t')\n",
    "            self.abundances = {rows[1]: [float(a) if a != '' else 0 for a in rows[2:-1]] for rows in reader}   \n",
    "        #the abundacnes\n",
    "        self.justAbs = []\n",
    "        #the masses\n",
    "        self.ms = []\n",
    "        \n",
    "        #Line opacity params\n",
    "        self.gammaN =  (1e8 * 6.16e-1 + 1e8*6.14e-1)\n",
    "        self.lineDat = {'NaD1': [5896, -15.33, 1e8 * 6.14e-1, 2, 2], \n",
    "                        'NaD2' : [5890, -15.17, 1e8 * 6.16e-1, 4, 2]}\n",
    "        \n",
    "        for key in self.abundances.keys():\n",
    "            self.justAbs.append(self.abundances[key][1])\n",
    "            self.ms.append(self.abundances[key][0])\n",
    "        self.justAbs = np.array(self.justAbs)\n",
    "        self.ms = np.array(self.ms)\n",
    "    \n",
    "    def numP(self, h):\n",
    "        #Using N1/N0 Pe = Phi(T)\n",
    "        myPe = self.ne(h) * sc.k * self.T(h)\n",
    "        h2h1 = phi('H', self.T(h))/myPe\n",
    "        hp = self.nh(h) / (1 + 1/h2h1)\n",
    "        return hp\n",
    "    \n",
    "    def neCont(self, species, h):\n",
    "        #the number of e- from the species we're looking at\n",
    "        myPe = self.valiicPe(h)\n",
    "        n2n1 = phi(species, self.T(h))/myPe\n",
    "        #multiply the abundance by the ionization fraction by the number of H\n",
    "        return  (n2n1 / (1 + n2n1)) * self.abundances[species][1] * self.nh(h) / (myPe / (sc.k * self.T(h)))\n",
    "    \n",
    "    def valiicPe(self, h):\n",
    "        if np.ndim(h) == 0:\n",
    "            h = np.array([h])\n",
    "        abundances = []  \n",
    "        sahas = []\n",
    "        abundances = self.justAbs\n",
    "        T = self.T(h)\n",
    "        Pg = self.pgas(h)\n",
    "        for species in self.abundances.keys():\n",
    "            myPhi = phi(species, T)\n",
    "            myPhi = [k if not math.isnan(k) else 0 for k in myPhi]\n",
    "            sahas.append(myPhi)\n",
    "        sahas = np.array(sahas)\n",
    "        abundances = np.array(abundances)\n",
    "        Pes = np.array([Pg[i]/2 if temp > 9000 else Pg[i]**0.5 for i, temp in enumerate(T)])\n",
    "        #print(np.shape(np.array(sahas)), abundances)\n",
    "        n = 0\n",
    "        PeOld = np.zeros(len(Pes))\n",
    "        #print(Pes)\n",
    "        while True in np.greater(np.abs((Pes - PeOld))/Pes, .001):\n",
    "            PeOld = Pes\n",
    "            n+= 1\n",
    "            #print(n)\n",
    "            #print(np.shape(abundances), np.shape(sahas), np.shape(PeOld))\n",
    "            numerator =  (sahas / PeOld) / (1 + sahas/PeOld)\n",
    "            denominator =  ( 1 + numerator)\n",
    "            Pes = Pg * sum(abundances[:, np.newaxis] * numerator)/sum(abundances[:, np.newaxis] * denominator)\n",
    "        #print(numerator, Pes, PeOld)\n",
    "        return Pes        \n",
    "\n",
    "    def kTot(self, h, v, Pe = None):\n",
    "        if np.ndim(h) == 0:\n",
    "            h = np.array([h])\n",
    "        if np.ndim(v) == 0:\n",
    "            v = np.array([v])\n",
    "        Ts = self.T(h)\n",
    "        if Pe is None:\n",
    "            Pe = self.valiicPe(h)\n",
    "        Pg = self.pgas(h)\n",
    "        #Pg = np.array([1.14e5])\n",
    "        lambd = 1e4/v\n",
    "        chi = 1.2398e4/lambd\n",
    "        theta = 5040/Ts\n",
    "        n2n1 = phi(\"H\", self.T(h))/Pe\n",
    "        phifactor = 1/(1 + phi(\"H\", Ts)/Pe)\n",
    "        #print(kHBF(Ts[0],v))\n",
    "        initial = [(((kHBF(T, v) + kHFF(T, v) + kHminusBF(Pe[i], T, v)) * (1 - 10**(-chi * theta[i])) +\n",
    "                    kHminusFF(Pe[i], T, v)) * phifactor[i] + ke(T, Pe[i], Pg[i], self.justAbs)) for i, T in enumerate(Ts)]\n",
    "        #print(initial)\n",
    "        w = (sum(self.ms*self.justAbs))*1.6605e-24\n",
    "        #return [phifactor, initial/(sum(self.ms*self.justAbs))/1.6605e-24, Pe, Pg, [[ke(T, Pe[i], Pg[i], self.justAbs)/w, (1 - 10**(-chi * theta[i])), kHBF(T, v)/w* phifactor[i], kHFF(T, v)/w* phifactor[i], kHminusBF(Pe[i], T, v)/w* phifactor[i],kHminusFF(Pe[i], T, v)/w* phifactor[i]] for i, T in enumerate(Ts)]]\n",
    "        return np.transpose(initial/(sum(self.ms*self.justAbs))/1.6605e-24)\n",
    "    \n",
    "    def g4(self, h, line):\n",
    "        Pe = self.valiicPe(h)\n",
    "        #Pe = self.ne(h) *self.T(h) * sc.k\n",
    "        T = self.T(h)\n",
    "        return 10**(19 + 2/3 * self.lineDat[line][1] + np.log10(Pe) - 5/6 * np.log10(T))\n",
    "    \n",
    "    def g6(self, h, line):\n",
    "        lambd = self.lineDat[line][0]\n",
    "        I = 5.1391\n",
    "        x = 1.2398e4/lambd\n",
    "        C6 = .3e-30 * (1/(I - x)**2 - 1/(I)**2)\n",
    "        return 10**(20 + 0.4 * np.log10(C6) + np.log10(self.pgas(h)) - 0.7 * np.log10(self.T(h)))\n",
    "        \n",
    "    def sigTherm(self, h, line):\n",
    "        lambd = self.lineDat[line][0]\n",
    "        dl = 4.301e-7 * lambd * (self.T(h) / 22.9898)**0.5\n",
    "        return dl / 2**0.5\n",
    "    \n",
    "    def sigMic(self, h, line):\n",
    "        lambd = self.lineDat[line][0]\n",
    "        dl = lambd * self.v(h)/ (sc.c /1e5)\n",
    "        return dl / 2**0.5\n",
    "    \n",
    "    def sigTot(self, h, line):\n",
    "        \n",
    "        return np.sqrt(self.sigMic(h, line)**2 + self.sigTherm(h, line)**2)\n",
    "\n",
    "    \n",
    "    def linea(self, h, v, line):\n",
    "        lambd = 1e4/v\n",
    "        l0 = self.lineDat[line][0]\n",
    "        gamma = self.g6(h, line) + self.g4(h, line) + self.gammaN\n",
    "        sigma = self.sigTot(h, line)\n",
    "        x = lambd - l0\n",
    "        f = 1.884e-15 * l0**2 * self.lineDat[line][3]/self.lineDat[line][4] * self.lineDat[line][2] / (4 * np.pi)\n",
    "        prefactor = 4.995e-21 * l0**2/ (sigma* 2**0.5) * f\n",
    "        u = x[:, np.newaxis]/(sigma * 2**0.5) \n",
    "        a = 1* gamma / (4 * np.pi) * l0**2/(sc.c* 1e8) / (sigma * 2**0.5)\n",
    "       \n",
    "        return prefactor * hjerting(u, a)\n",
    "    \n",
    "    def lineK(self, h, v, line, Pe = None):\n",
    "        T = self.T(h)\n",
    "        if Pe is None:\n",
    "            Pe = self.valiicPe(h)\n",
    "        lambd = 1e4/v[:, np.newaxis]\n",
    "        chi = 1.2398e4/lambd\n",
    "        theta = 5040/T\n",
    "        nGround= 2/partition('Na', T)\n",
    "        #the fraction of sodium capable of absorbing\n",
    "        nNe = 1/ (1 + phi('Na', T)/Pe) * nGround\n",
    "        #now the number abundance of Na times Nh/rho\n",
    "        rhoNh = self.abundances['Na'][1] / (sum(self.ms*self.justAbs) * 1.6605e-24)\n",
    "        kv = nGround * nNe * rhoNh * (1 - 10**(-chi * theta)) * self.linea(h, v, line) \n",
    "        #print((1 - 10**(-chi * theta)))\n",
    "        return kv\n",
    "    \n",
    "    def tauTot(self, h, v):\n",
    "        h = sorted(h, reverse = True)\n",
    "        hEvals = [self.valiic['h'][18]]\n",
    "        idx = []\n",
    "        #print(h)\n",
    "        #print(hEvals)\n",
    "        for height in h:\n",
    "            #print(height, hEvals)\n",
    "            increment = min( hEvals[-1]- height, 10)\n",
    "            newHs = np.arange(height, hEvals[-1],  increment)\n",
    "            #print(newHs)\n",
    "            idx.append(len(newHs))\n",
    "            hEvals.extend(newHs[::-1])\n",
    "            #print(hEvals, newHs)\n",
    "        hEvals = np.array(hEvals)\n",
    "        T = self.T(hEvals[1:])\n",
    "        #print(T)\n",
    "        Pe = self.ne(hEvals[1:]) * sc.k * T\n",
    "        rho = self.rho(hEvals[1:])\n",
    "        dl = (hEvals[1:] - hEvals[:-1]) * 1e5\n",
    "        kCont = self.kTot(hEvals[1:], v, Pe)\n",
    "        kLine = self.lineK(hEvals[1:], v, 'NaD1', Pe) + self.lineK(hEvals[1:], v, 'NaD2', Pe)\n",
    "        #print(np.shape(kCont), np.shape(kLine))\n",
    "        integral =  np.cumsum((kCont + kLine) * rho * dl, axis = 1)\n",
    "        #return np.shape(integral)\n",
    "        #print(integral)\n",
    "        return  -(integral[:, np.cumsum(idx)-1])\n",
    "    \n",
    "    def sourceFunction(self, v, nh = 2000):\n",
    "        hvals = np.logspace(np.log10(2176), 0, nh) - 76\n",
    "        \n",
    "        hvals = np.linspace(2176, 1, nh) - 76\n",
    "        taus = self.tauTot(hvals, v)\n",
    "        T = self.T(hvals)\n",
    "        Bvals = planck(v, T)\n",
    "        return (taus, Bvals)\n",
    "    \n",
    "    def h_nu_zero(self, v, nh = 2000):\n",
    "        grid = self.sourceFunction(v, nh)\n",
    "        taus = grid[0][:][:]\n",
    "        Bvs = grid[1][:][:]\n",
    "        dt = np.diff(taus)\n",
    "        return np.sum(Bvs[:, 1:] * special.expn(2, taus)[:,1:] * dt, axis = -1)\n",
    "        \n",
    "   \n",
    "        "
   ]
  },
  {
   "cell_type": "code",
   "execution_count": 52,
   "metadata": {
    "scrolled": true
   },
   "outputs": [],
   "source": [
    "c = valiic()\n",
    "#(c.linea(np.array([20, 20, 30]), np.array([1e4/5800, 1e4/5890]), 'NaD1'))\n",
    "#c.tauTot(np.array([20, 10, 0]),np.array([1e4/5896]))"
   ]
  },
  {
   "cell_type": "code",
   "execution_count": 49,
   "metadata": {},
   "outputs": [
    {
     "ename": "ValueError",
     "evalue": "A value in x_new is below the interpolation range.",
     "output_type": "error",
     "traceback": [
      "\u001b[0;31m---------------------------------------------------------------------------\u001b[0m",
      "\u001b[0;31mValueError\u001b[0m                                Traceback (most recent call last)",
      "\u001b[0;32m<ipython-input-49-3631ca82fad6>\u001b[0m in \u001b[0;36m<module>\u001b[0;34m\u001b[0m\n\u001b[1;32m      1\u001b[0m \u001b[0mhs\u001b[0m \u001b[0;34m=\u001b[0m \u001b[0mnp\u001b[0m\u001b[0;34m.\u001b[0m\u001b[0mlinspace\u001b[0m\u001b[0;34m(\u001b[0m\u001b[0;36m2000\u001b[0m\u001b[0;34m,\u001b[0m \u001b[0;34m-\u001b[0m\u001b[0;36m75\u001b[0m\u001b[0;34m,\u001b[0m \u001b[0;36m30\u001b[0m\u001b[0;34m)\u001b[0m\u001b[0;34m\u001b[0m\u001b[0;34m\u001b[0m\u001b[0m\n\u001b[1;32m      2\u001b[0m \u001b[0mfreqs\u001b[0m \u001b[0;34m=\u001b[0m \u001b[0mnp\u001b[0m\u001b[0;34m.\u001b[0m\u001b[0mlinspace\u001b[0m\u001b[0;34m(\u001b[0m\u001b[0;36m1e4\u001b[0m\u001b[0;34m/\u001b[0m\u001b[0;36m5886\u001b[0m\u001b[0;34m,\u001b[0m \u001b[0;36m1e4\u001b[0m\u001b[0;34m/\u001b[0m\u001b[0;36m5900\u001b[0m\u001b[0;34m,\u001b[0m \u001b[0;36m1000\u001b[0m\u001b[0;34m)\u001b[0m\u001b[0;34m\u001b[0m\u001b[0;34m\u001b[0m\u001b[0m\n\u001b[0;32m----> 3\u001b[0;31m \u001b[0my\u001b[0m \u001b[0;34m=\u001b[0m \u001b[0mc\u001b[0m\u001b[0;34m.\u001b[0m\u001b[0msourceFunction\u001b[0m\u001b[0;34m(\u001b[0m\u001b[0mfreqs\u001b[0m\u001b[0;34m)\u001b[0m\u001b[0;34m\u001b[0m\u001b[0;34m\u001b[0m\u001b[0m\n\u001b[0m",
      "\u001b[0;32m<ipython-input-47-97e051dfffbc>\u001b[0m in \u001b[0;36msourceFunction\u001b[0;34m(self, v, nh)\u001b[0m\n\u001b[1;32m    187\u001b[0m \u001b[0;34m\u001b[0m\u001b[0m\n\u001b[1;32m    188\u001b[0m         \u001b[0mhvals\u001b[0m \u001b[0;34m=\u001b[0m \u001b[0mnp\u001b[0m\u001b[0;34m.\u001b[0m\u001b[0mlinspace\u001b[0m\u001b[0;34m(\u001b[0m\u001b[0;36m2176\u001b[0m\u001b[0;34m,\u001b[0m \u001b[0;36m0\u001b[0m\u001b[0;34m,\u001b[0m \u001b[0mnh\u001b[0m\u001b[0;34m)\u001b[0m \u001b[0;34m-\u001b[0m \u001b[0;36m76\u001b[0m\u001b[0;34m\u001b[0m\u001b[0;34m\u001b[0m\u001b[0m\n\u001b[0;32m--> 189\u001b[0;31m         \u001b[0mtaus\u001b[0m \u001b[0;34m=\u001b[0m \u001b[0mself\u001b[0m\u001b[0;34m.\u001b[0m\u001b[0mtauTot\u001b[0m\u001b[0;34m(\u001b[0m\u001b[0mhvals\u001b[0m\u001b[0;34m,\u001b[0m \u001b[0mv\u001b[0m\u001b[0;34m)\u001b[0m\u001b[0;34m\u001b[0m\u001b[0;34m\u001b[0m\u001b[0m\n\u001b[0m\u001b[1;32m    190\u001b[0m         \u001b[0mT\u001b[0m \u001b[0;34m=\u001b[0m \u001b[0mself\u001b[0m\u001b[0;34m.\u001b[0m\u001b[0mT\u001b[0m\u001b[0;34m(\u001b[0m\u001b[0mhvals\u001b[0m\u001b[0;34m)\u001b[0m\u001b[0;34m\u001b[0m\u001b[0;34m\u001b[0m\u001b[0m\n\u001b[1;32m    191\u001b[0m         \u001b[0mBvals\u001b[0m \u001b[0;34m=\u001b[0m \u001b[0mplanck\u001b[0m\u001b[0;34m(\u001b[0m\u001b[0mv\u001b[0m\u001b[0;34m,\u001b[0m \u001b[0mT\u001b[0m\u001b[0;34m)\u001b[0m\u001b[0;34m\u001b[0m\u001b[0;34m\u001b[0m\u001b[0m\n",
      "\u001b[0;32m<ipython-input-47-97e051dfffbc>\u001b[0m in \u001b[0;36mtauTot\u001b[0;34m(self, h, v)\u001b[0m\n\u001b[1;32m    170\u001b[0m             \u001b[0;31m#print(hEvals, newHs)\u001b[0m\u001b[0;34m\u001b[0m\u001b[0;34m\u001b[0m\u001b[0;34m\u001b[0m\u001b[0m\n\u001b[1;32m    171\u001b[0m         \u001b[0mhEvals\u001b[0m \u001b[0;34m=\u001b[0m \u001b[0mnp\u001b[0m\u001b[0;34m.\u001b[0m\u001b[0marray\u001b[0m\u001b[0;34m(\u001b[0m\u001b[0mhEvals\u001b[0m\u001b[0;34m)\u001b[0m\u001b[0;34m\u001b[0m\u001b[0;34m\u001b[0m\u001b[0m\n\u001b[0;32m--> 172\u001b[0;31m         \u001b[0mT\u001b[0m \u001b[0;34m=\u001b[0m \u001b[0mself\u001b[0m\u001b[0;34m.\u001b[0m\u001b[0mT\u001b[0m\u001b[0;34m(\u001b[0m\u001b[0mhEvals\u001b[0m\u001b[0;34m[\u001b[0m\u001b[0;36m1\u001b[0m\u001b[0;34m:\u001b[0m\u001b[0;34m]\u001b[0m\u001b[0;34m)\u001b[0m\u001b[0;34m\u001b[0m\u001b[0;34m\u001b[0m\u001b[0m\n\u001b[0m\u001b[1;32m    173\u001b[0m         \u001b[0;31m#print(T)\u001b[0m\u001b[0;34m\u001b[0m\u001b[0;34m\u001b[0m\u001b[0;34m\u001b[0m\u001b[0m\n\u001b[1;32m    174\u001b[0m         \u001b[0mPe\u001b[0m \u001b[0;34m=\u001b[0m \u001b[0mself\u001b[0m\u001b[0;34m.\u001b[0m\u001b[0mne\u001b[0m\u001b[0;34m(\u001b[0m\u001b[0mhEvals\u001b[0m\u001b[0;34m[\u001b[0m\u001b[0;36m1\u001b[0m\u001b[0;34m:\u001b[0m\u001b[0;34m]\u001b[0m\u001b[0;34m)\u001b[0m \u001b[0;34m*\u001b[0m \u001b[0msc\u001b[0m\u001b[0;34m.\u001b[0m\u001b[0mk\u001b[0m \u001b[0;34m*\u001b[0m \u001b[0mT\u001b[0m\u001b[0;34m\u001b[0m\u001b[0;34m\u001b[0m\u001b[0m\n",
      "\u001b[0;32m~/anaconda3/lib/python3.7/site-packages/scipy/interpolate/polyint.py\u001b[0m in \u001b[0;36m__call__\u001b[0;34m(self, x)\u001b[0m\n\u001b[1;32m     77\u001b[0m         \"\"\"\n\u001b[1;32m     78\u001b[0m         \u001b[0mx\u001b[0m\u001b[0;34m,\u001b[0m \u001b[0mx_shape\u001b[0m \u001b[0;34m=\u001b[0m \u001b[0mself\u001b[0m\u001b[0;34m.\u001b[0m\u001b[0m_prepare_x\u001b[0m\u001b[0;34m(\u001b[0m\u001b[0mx\u001b[0m\u001b[0;34m)\u001b[0m\u001b[0;34m\u001b[0m\u001b[0;34m\u001b[0m\u001b[0m\n\u001b[0;32m---> 79\u001b[0;31m         \u001b[0my\u001b[0m \u001b[0;34m=\u001b[0m \u001b[0mself\u001b[0m\u001b[0;34m.\u001b[0m\u001b[0m_evaluate\u001b[0m\u001b[0;34m(\u001b[0m\u001b[0mx\u001b[0m\u001b[0;34m)\u001b[0m\u001b[0;34m\u001b[0m\u001b[0;34m\u001b[0m\u001b[0m\n\u001b[0m\u001b[1;32m     80\u001b[0m         \u001b[0;32mreturn\u001b[0m \u001b[0mself\u001b[0m\u001b[0;34m.\u001b[0m\u001b[0m_finish_y\u001b[0m\u001b[0;34m(\u001b[0m\u001b[0my\u001b[0m\u001b[0;34m,\u001b[0m \u001b[0mx_shape\u001b[0m\u001b[0;34m)\u001b[0m\u001b[0;34m\u001b[0m\u001b[0;34m\u001b[0m\u001b[0m\n\u001b[1;32m     81\u001b[0m \u001b[0;34m\u001b[0m\u001b[0m\n",
      "\u001b[0;32m~/anaconda3/lib/python3.7/site-packages/scipy/interpolate/interpolate.py\u001b[0m in \u001b[0;36m_evaluate\u001b[0;34m(self, x_new)\u001b[0m\n\u001b[1;32m    661\u001b[0m         \u001b[0my_new\u001b[0m \u001b[0;34m=\u001b[0m \u001b[0mself\u001b[0m\u001b[0;34m.\u001b[0m\u001b[0m_call\u001b[0m\u001b[0;34m(\u001b[0m\u001b[0mself\u001b[0m\u001b[0;34m,\u001b[0m \u001b[0mx_new\u001b[0m\u001b[0;34m)\u001b[0m\u001b[0;34m\u001b[0m\u001b[0;34m\u001b[0m\u001b[0m\n\u001b[1;32m    662\u001b[0m         \u001b[0;32mif\u001b[0m \u001b[0;32mnot\u001b[0m \u001b[0mself\u001b[0m\u001b[0;34m.\u001b[0m\u001b[0m_extrapolate\u001b[0m\u001b[0;34m:\u001b[0m\u001b[0;34m\u001b[0m\u001b[0;34m\u001b[0m\u001b[0m\n\u001b[0;32m--> 663\u001b[0;31m             \u001b[0mbelow_bounds\u001b[0m\u001b[0;34m,\u001b[0m \u001b[0mabove_bounds\u001b[0m \u001b[0;34m=\u001b[0m \u001b[0mself\u001b[0m\u001b[0;34m.\u001b[0m\u001b[0m_check_bounds\u001b[0m\u001b[0;34m(\u001b[0m\u001b[0mx_new\u001b[0m\u001b[0;34m)\u001b[0m\u001b[0;34m\u001b[0m\u001b[0;34m\u001b[0m\u001b[0m\n\u001b[0m\u001b[1;32m    664\u001b[0m             \u001b[0;32mif\u001b[0m \u001b[0mlen\u001b[0m\u001b[0;34m(\u001b[0m\u001b[0my_new\u001b[0m\u001b[0;34m)\u001b[0m \u001b[0;34m>\u001b[0m \u001b[0;36m0\u001b[0m\u001b[0;34m:\u001b[0m\u001b[0;34m\u001b[0m\u001b[0;34m\u001b[0m\u001b[0m\n\u001b[1;32m    665\u001b[0m                 \u001b[0;31m# Note fill_value must be broadcast up to the proper size\u001b[0m\u001b[0;34m\u001b[0m\u001b[0;34m\u001b[0m\u001b[0;34m\u001b[0m\u001b[0m\n",
      "\u001b[0;32m~/anaconda3/lib/python3.7/site-packages/scipy/interpolate/interpolate.py\u001b[0m in \u001b[0;36m_check_bounds\u001b[0;34m(self, x_new)\u001b[0m\n\u001b[1;32m    690\u001b[0m         \u001b[0;31m# !! Could provide more information about which values are out of bounds\u001b[0m\u001b[0;34m\u001b[0m\u001b[0;34m\u001b[0m\u001b[0;34m\u001b[0m\u001b[0m\n\u001b[1;32m    691\u001b[0m         \u001b[0;32mif\u001b[0m \u001b[0mself\u001b[0m\u001b[0;34m.\u001b[0m\u001b[0mbounds_error\u001b[0m \u001b[0;32mand\u001b[0m \u001b[0mbelow_bounds\u001b[0m\u001b[0;34m.\u001b[0m\u001b[0many\u001b[0m\u001b[0;34m(\u001b[0m\u001b[0;34m)\u001b[0m\u001b[0;34m:\u001b[0m\u001b[0;34m\u001b[0m\u001b[0;34m\u001b[0m\u001b[0m\n\u001b[0;32m--> 692\u001b[0;31m             raise ValueError(\"A value in x_new is below the interpolation \"\n\u001b[0m\u001b[1;32m    693\u001b[0m                              \"range.\")\n\u001b[1;32m    694\u001b[0m         \u001b[0;32mif\u001b[0m \u001b[0mself\u001b[0m\u001b[0;34m.\u001b[0m\u001b[0mbounds_error\u001b[0m \u001b[0;32mand\u001b[0m \u001b[0mabove_bounds\u001b[0m\u001b[0;34m.\u001b[0m\u001b[0many\u001b[0m\u001b[0;34m(\u001b[0m\u001b[0;34m)\u001b[0m\u001b[0;34m:\u001b[0m\u001b[0;34m\u001b[0m\u001b[0;34m\u001b[0m\u001b[0m\n",
      "\u001b[0;31mValueError\u001b[0m: A value in x_new is below the interpolation range."
     ]
    }
   ],
   "source": [
    "hs = np.linspace(2000, -75, 30)\n",
    "freqs = np.linspace(1e4/5886, 1e4/5900, 1000)\n",
    "y = c.sourceFunction(freqs)"
   ]
  },
  {
   "cell_type": "code",
   "execution_count": 53,
   "metadata": {},
   "outputs": [
    {
     "data": {
      "text/plain": [
       "array([0.01492437, 0.01492282, 0.01492126, 0.01491969, 0.0149181 ,\n",
       "       0.01491649, 0.01491486, 0.01491322, 0.01491157, 0.01490989,\n",
       "       0.0149082 , 0.01490649, 0.01490476, 0.01490302, 0.01490125,\n",
       "       0.01489947, 0.01489767, 0.01489585, 0.01489401, 0.01489215,\n",
       "       0.01489027, 0.01488837, 0.01488645, 0.01488451, 0.01488255,\n",
       "       0.01488056, 0.01487856, 0.01487653, 0.01487448, 0.01487241,\n",
       "       0.01487031, 0.01486819, 0.01486605, 0.01486388, 0.01486169,\n",
       "       0.01485947, 0.01485723, 0.01485496, 0.01485267, 0.01485035,\n",
       "       0.014848  , 0.01484562, 0.01484322, 0.01484079, 0.01483833,\n",
       "       0.01483584, 0.01483332, 0.01483077, 0.01482819, 0.01482558,\n",
       "       0.01482293, 0.01482026, 0.01481755, 0.01481481, 0.01481203,\n",
       "       0.01480922, 0.01480638, 0.0148035 , 0.01480058, 0.01479763,\n",
       "       0.01479464, 0.01479161, 0.01478855, 0.01478544, 0.01478229,\n",
       "       0.01477911, 0.01477588, 0.01477261, 0.01476929, 0.01476593,\n",
       "       0.01476253, 0.01475909, 0.01475559, 0.01475205, 0.01474846,\n",
       "       0.01474483, 0.01474114, 0.0147374 , 0.01473362, 0.01472978,\n",
       "       0.01472588, 0.01472193, 0.01471793, 0.01471387, 0.01470975,\n",
       "       0.01470558, 0.01470134, 0.01469705, 0.01469269, 0.01468827,\n",
       "       0.01468378, 0.01467923, 0.01467461, 0.01466993, 0.01466517,\n",
       "       0.01466035, 0.01465545, 0.01465047, 0.01464542, 0.0146403 ,\n",
       "       0.01463509, 0.01462981, 0.01462444, 0.01461899, 0.01461346,\n",
       "       0.01460784, 0.01460213, 0.01459633, 0.01459043, 0.01458444,\n",
       "       0.01457836, 0.01457218, 0.01456589, 0.0145595 , 0.01455301,\n",
       "       0.01454641, 0.0145397 , 0.01453287, 0.01452593, 0.01451888,\n",
       "       0.0145117 , 0.0145044 , 0.01449698, 0.01448942, 0.01448174,\n",
       "       0.01447392, 0.01446596, 0.01445786, 0.01444961, 0.01444122,\n",
       "       0.01443268, 0.01442398, 0.01441512, 0.0144061 , 0.01439691,\n",
       "       0.01438755, 0.01437802, 0.01436831, 0.01435841, 0.01434833,\n",
       "       0.01433805, 0.01432757, 0.01431689, 0.01430601, 0.0142949 ,\n",
       "       0.01428358, 0.01427204, 0.01426026, 0.01424825, 0.01423599,\n",
       "       0.01422348, 0.01421072, 0.01419769, 0.01418439, 0.01417081,\n",
       "       0.01415695, 0.01414279, 0.01412833, 0.01411356, 0.01409847,\n",
       "       0.01408305, 0.0140673 , 0.01405119, 0.01403473, 0.0140179 ,\n",
       "       0.0140007 , 0.0139831 , 0.0139651 , 0.01394669, 0.01392785,\n",
       "       0.01390857, 0.01388884, 0.01386864, 0.01384797, 0.0138268 ,\n",
       "       0.01380512, 0.01378291, 0.01376016, 0.01373685, 0.01371296,\n",
       "       0.01368847, 0.01366337, 0.01363763, 0.01361124, 0.01358416,\n",
       "       0.01355639, 0.01352789, 0.01349865, 0.01346863, 0.01343781,\n",
       "       0.01340617, 0.01337367, 0.01334029, 0.013306  , 0.01327076,\n",
       "       0.01323454, 0.01319731, 0.01315903, 0.01311966, 0.01307917,\n",
       "       0.01303752, 0.01299466, 0.01295055, 0.01290516, 0.01285842,\n",
       "       0.01281029, 0.01276073, 0.01270968, 0.01265708, 0.01260289,\n",
       "       0.01254703, 0.01248946, 0.01243011, 0.01236892, 0.01230582,\n",
       "       0.01224074, 0.01217361, 0.01210435, 0.01203291, 0.01195919,\n",
       "       0.01188312, 0.01180462, 0.0117236 , 0.01164   , 0.01155371,\n",
       "       0.01146467, 0.01137278, 0.01127796, 0.01118013, 0.01107921,\n",
       "       0.01097511, 0.01086778, 0.01075713, 0.0106431 , 0.01052565,\n",
       "       0.01040471, 0.01028026, 0.01015229, 0.01002077, 0.00988575,\n",
       "       0.00974724, 0.00960532, 0.00946009, 0.00931167, 0.00916024,\n",
       "       0.00900601, 0.00884926, 0.00869029, 0.00852948, 0.00836727,\n",
       "       0.00820418, 0.00804077, 0.00787767, 0.00771561, 0.00755534,\n",
       "       0.00739767, 0.00724346, 0.00709356, 0.00694884, 0.00681011,\n",
       "       0.0066781 , 0.00655344, 0.00643661, 0.00632786, 0.00622723,\n",
       "       0.00613449, 0.0060491 , 0.00597021, 0.00589665, 0.00582686,\n",
       "       0.00575896, 0.00569062, 0.00561907, 0.00554095, 0.00545232,\n",
       "       0.00534878, 0.00522582, 0.00506942, 0.00475726, 0.0038361 ,\n",
       "       0.00254394, 0.00177376, 0.00127044, 0.00085579, 0.00055031,\n",
       "       0.00037066, 0.00031846, 0.00039266, 0.00059454, 0.00092079,\n",
       "       0.00135142, 0.00187616, 0.00273371, 0.00405664, 0.0048385 ,\n",
       "       0.00510119, 0.00524882, 0.00536801, 0.00546864, 0.00555512,\n",
       "       0.00563182, 0.00570258, 0.00577065, 0.00583871, 0.005909  ,\n",
       "       0.00598337, 0.00606328, 0.00614986, 0.0062439 , 0.00634586,\n",
       "       0.00645595, 0.00657407, 0.00669993, 0.00683301, 0.00697268,\n",
       "       0.00711817, 0.00726866, 0.00742329, 0.00758121, 0.00774155,\n",
       "       0.00790353, 0.00806638, 0.00822941, 0.008392  , 0.00855359,\n",
       "       0.00871367, 0.00887183, 0.0090277 , 0.00918097, 0.00933139,\n",
       "       0.00947875, 0.00962289, 0.00976368, 0.00990103, 0.01003489,\n",
       "       0.01016521, 0.01029199, 0.01041524, 0.01053497, 0.01065123,\n",
       "       0.01076405, 0.0108735 , 0.01097965, 0.01108256, 0.01118231,\n",
       "       0.01127898, 0.01137264, 0.01146339, 0.01155131, 0.01163647,\n",
       "       0.01171897, 0.01179889, 0.0118763 , 0.0119513 , 0.01202396,\n",
       "       0.01209436, 0.01216257, 0.01222867, 0.01229274, 0.01235483,\n",
       "       0.01241503, 0.01247339, 0.01252998, 0.01258486, 0.0126381 ,\n",
       "       0.01268974, 0.01273985, 0.01278847, 0.01283566, 0.01288148,\n",
       "       0.01292596, 0.01296915, 0.0130111 , 0.01305185, 0.01309144,\n",
       "       0.01312992, 0.01316731, 0.01320366, 0.013239  , 0.01327336,\n",
       "       0.01330679, 0.0133393 , 0.01337093, 0.01340171, 0.01343166,\n",
       "       0.01346082, 0.01348921, 0.01351685, 0.01354376, 0.01356998,\n",
       "       0.01359552, 0.01362041, 0.01364466, 0.01366829, 0.01369133,\n",
       "       0.01371379, 0.01373568, 0.01375704, 0.01377786, 0.01379818,\n",
       "       0.013818  , 0.01383734, 0.01385621, 0.01387463, 0.0138926 ,\n",
       "       0.01391015, 0.01392728, 0.01394401, 0.01396035, 0.0139763 ,\n",
       "       0.01399189, 0.01400711, 0.01402199, 0.01403652, 0.01405072,\n",
       "       0.0140646 , 0.01407816, 0.01409142, 0.01410438, 0.01411705,\n",
       "       0.01412943, 0.01414155, 0.01415339, 0.01416497, 0.0141763 ,\n",
       "       0.01418738, 0.01419821, 0.01420881, 0.01421918, 0.01422933,\n",
       "       0.01423925, 0.01424896, 0.01425847, 0.01426776, 0.01427686,\n",
       "       0.01428576, 0.01429448, 0.014303  , 0.01431135, 0.01431951,\n",
       "       0.01432751, 0.01433533, 0.01434299, 0.01435048, 0.01435781,\n",
       "       0.01436499, 0.01437201, 0.01437889, 0.01438562, 0.0143922 ,\n",
       "       0.01439865, 0.01440496, 0.01441113, 0.01441717, 0.01442308,\n",
       "       0.01442886, 0.01443452, 0.01444005, 0.01444546, 0.01445076,\n",
       "       0.01445594, 0.014461  , 0.01446596, 0.0144708 , 0.01447554,\n",
       "       0.01448016, 0.01448469, 0.01448911, 0.01449343, 0.01449765,\n",
       "       0.01450177, 0.01450579, 0.01450972, 0.01451356, 0.0145173 ,\n",
       "       0.01452095, 0.01452451, 0.01452799, 0.01453137, 0.01453467,\n",
       "       0.01453789, 0.01454102, 0.01454406, 0.01454703, 0.01454991,\n",
       "       0.01455271, 0.01455544, 0.01455808, 0.01456065, 0.01456314,\n",
       "       0.01456555, 0.01456789, 0.01457016, 0.01457235, 0.01457446,\n",
       "       0.0145765 , 0.01457848, 0.01458037, 0.0145822 , 0.01458396,\n",
       "       0.01458564, 0.01458726, 0.01458881, 0.01459028, 0.01459169,\n",
       "       0.01459303, 0.0145943 , 0.0145955 , 0.01459664, 0.0145977 ,\n",
       "       0.0145987 , 0.01459964, 0.0146005 , 0.0146013 , 0.01460203,\n",
       "       0.01460269, 0.01460328, 0.01460381, 0.01460427, 0.01460466,\n",
       "       0.01460499, 0.01460525, 0.01460544, 0.01460556, 0.01460561,\n",
       "       0.0146056 , 0.01460551, 0.01460536, 0.01460514, 0.01460484,\n",
       "       0.01460448, 0.01460405, 0.01460354, 0.01460296, 0.01460231,\n",
       "       0.01460159, 0.01460079, 0.01459992, 0.01459898, 0.01459795,\n",
       "       0.01459686, 0.01459568, 0.01459443, 0.0145931 , 0.01459168,\n",
       "       0.01459019, 0.01458862, 0.01458696, 0.01458521, 0.01458339,\n",
       "       0.01458147, 0.01457947, 0.01457738, 0.0145752 , 0.01457292,\n",
       "       0.01457056, 0.01456809, 0.01456554, 0.01456288, 0.01456012,\n",
       "       0.01455726, 0.0145543 , 0.01455124, 0.01454806, 0.01454478,\n",
       "       0.01454138, 0.01453787, 0.01453424, 0.0145305 , 0.01452663,\n",
       "       0.01452264, 0.01451852, 0.01451428, 0.0145099 , 0.01450538,\n",
       "       0.01450073, 0.01449593, 0.01449099, 0.01448591, 0.01448066,\n",
       "       0.01447527, 0.01446971, 0.01446399, 0.0144581 , 0.01445204,\n",
       "       0.0144458 , 0.01443938, 0.01443277, 0.01442597, 0.01441898,\n",
       "       0.01441178, 0.01440437, 0.01439674, 0.0143889 , 0.01438083,\n",
       "       0.01437252, 0.01436398, 0.01435519, 0.01434614, 0.01433682,\n",
       "       0.01432724, 0.01431737, 0.01430722, 0.01429676, 0.014286  ,\n",
       "       0.01427492, 0.01426351, 0.01425176, 0.01423966, 0.0142272 ,\n",
       "       0.01421435, 0.01420113, 0.01418749, 0.01417344, 0.01415896,\n",
       "       0.01414403, 0.01412864, 0.01411276, 0.01409639, 0.0140795 ,\n",
       "       0.01406207, 0.01404408, 0.01402552, 0.01400635, 0.01398655,\n",
       "       0.01396611, 0.01394499, 0.01392316, 0.0139006 , 0.01387728,\n",
       "       0.01385316, 0.01382821, 0.0138024 , 0.01377569, 0.01374804,\n",
       "       0.0137194 , 0.01368974, 0.01365902, 0.01362717, 0.01359416,\n",
       "       0.01355992, 0.01352441, 0.01348756, 0.01344931, 0.01340959,\n",
       "       0.01336834, 0.01332547, 0.01328092, 0.0132346 , 0.01318642,\n",
       "       0.0131363 , 0.01308412, 0.0130298 , 0.01297322, 0.01291427,\n",
       "       0.01285283, 0.01278876, 0.01272194, 0.01265222, 0.01257945,\n",
       "       0.01250348, 0.01242414, 0.01234125, 0.01225463, 0.01216409,\n",
       "       0.01206943, 0.01197043, 0.0118669 , 0.01175859, 0.01164528,\n",
       "       0.01152674, 0.01140272, 0.01127299, 0.0111373 , 0.01099544,\n",
       "       0.01084716, 0.01069227, 0.01053058, 0.01036195, 0.01018627,\n",
       "       0.01000348, 0.00981362, 0.0096168 , 0.00941324, 0.00920331,\n",
       "       0.00898754, 0.00876664, 0.00854155, 0.00831345, 0.00808381,\n",
       "       0.00785434, 0.00762706, 0.00740421, 0.00718822, 0.00698159,\n",
       "       0.00678676, 0.00660588, 0.00644063, 0.00629193, 0.00615976,\n",
       "       0.00604294, 0.00593909, 0.00584474, 0.00575591, 0.0056696 ,\n",
       "       0.00557971, 0.00539916, 0.00465957, 0.00320146, 0.00223135,\n",
       "       0.00170778, 0.00130344, 0.00098793, 0.00078798, 0.00071566,\n",
       "       0.00077355, 0.00095967, 0.00126348, 0.00165941, 0.0021592 ,\n",
       "       0.00305541, 0.00451647, 0.00535863, 0.00556793, 0.00566013,\n",
       "       0.0057463 , 0.00583477, 0.00592836, 0.00603103, 0.00614638,\n",
       "       0.00627693, 0.00642398, 0.00658769, 0.00676724, 0.00696102,\n",
       "       0.00716692, 0.00738253, 0.00760533, 0.00783289, 0.00806293,\n",
       "       0.0082934 , 0.00852254, 0.00874887, 0.00897116, 0.00918845,\n",
       "       0.00939998, 0.00960522, 0.00980378, 0.00999541, 0.01017998,\n",
       "       0.01035746, 0.0105279 , 0.01069138, 0.01084805, 0.0109981 ,\n",
       "       0.01114172, 0.01127913, 0.01141057, 0.01153627, 0.01165647,\n",
       "       0.01177141, 0.01188132, 0.01198644, 0.012087  , 0.01218319,\n",
       "       0.01227525, 0.01236336, 0.01244773, 0.01252853, 0.01260593,\n",
       "       0.01268012, 0.01275124, 0.01281945, 0.01288488, 0.01294769,\n",
       "       0.01300798, 0.01306589, 0.01312154, 0.01317502, 0.01322645,\n",
       "       0.01327592, 0.01332353, 0.01336935, 0.01341349, 0.013456  ,\n",
       "       0.01349698, 0.01353648, 0.01357458, 0.01361133, 0.01364681,\n",
       "       0.01368106, 0.01371413, 0.01374609, 0.01377698, 0.01380684,\n",
       "       0.01383572, 0.01386365, 0.01389069, 0.01391686, 0.0139422 ,\n",
       "       0.01396675, 0.01399054, 0.01401359, 0.01403594, 0.01405762,\n",
       "       0.01407864, 0.01409904, 0.01411885, 0.01413807, 0.01415674,\n",
       "       0.01417488, 0.0141925 , 0.01420963, 0.01422628, 0.01424247,\n",
       "       0.01425822, 0.01427354, 0.01428845, 0.01430296, 0.01431709,\n",
       "       0.01433084, 0.01434424, 0.01435729, 0.01437001, 0.01438241,\n",
       "       0.01439449, 0.01440627, 0.01441777, 0.01442897, 0.01443991,\n",
       "       0.01445058, 0.014461  , 0.01447116, 0.01448109, 0.01449079,\n",
       "       0.01450026, 0.01450951, 0.01451855, 0.01452738, 0.01453602,\n",
       "       0.01454446, 0.01455271, 0.01456078, 0.01456868, 0.0145764 ,\n",
       "       0.01458396, 0.01459135, 0.01459859, 0.01460568, 0.01461261,\n",
       "       0.0146194 , 0.01462605, 0.01463257, 0.01463895, 0.0146452 ,\n",
       "       0.01465133, 0.01465733, 0.01466322, 0.01466899, 0.01467465,\n",
       "       0.01468019, 0.01468563, 0.01469097, 0.0146962 , 0.01470133,\n",
       "       0.01470637, 0.01471131, 0.01471616, 0.01472092, 0.0147256 ,\n",
       "       0.01473019, 0.01473469, 0.01473912, 0.01474346, 0.01474773,\n",
       "       0.01475192, 0.01475604, 0.01476009, 0.01476406, 0.01476797,\n",
       "       0.01477181, 0.01477559, 0.0147793 , 0.01478295, 0.01478654,\n",
       "       0.01479006, 0.01479353, 0.01479694, 0.0148003 , 0.0148036 ,\n",
       "       0.01480685, 0.01481005, 0.01481319, 0.01481629, 0.01481933,\n",
       "       0.01482233, 0.01482528, 0.01482818, 0.01483104, 0.01483386,\n",
       "       0.01483663, 0.01483936, 0.01484205, 0.0148447 , 0.01484731,\n",
       "       0.01484988, 0.01485241, 0.0148549 , 0.01485736, 0.01485978,\n",
       "       0.01486217, 0.01486452, 0.01486683, 0.01486912, 0.01487137,\n",
       "       0.01487359, 0.01487578, 0.01487794, 0.01488006, 0.01488216,\n",
       "       0.01488423, 0.01488627, 0.01488828, 0.01489027, 0.01489223,\n",
       "       0.01489416, 0.01489607, 0.01489795, 0.0148998 , 0.01490163,\n",
       "       0.01490344, 0.01490522, 0.01490698, 0.01490872, 0.01491043,\n",
       "       0.01491212, 0.01491379, 0.01491544, 0.01491707, 0.01491868,\n",
       "       0.01492026, 0.01492183, 0.01492338, 0.0149249 , 0.01492641,\n",
       "       0.0149279 , 0.01492938, 0.01493083, 0.01493227, 0.01493369,\n",
       "       0.01493509, 0.01493647, 0.01493784, 0.01493919, 0.01494053,\n",
       "       0.01494185, 0.01494316, 0.01494445, 0.01494572, 0.01494698,\n",
       "       0.01494822, 0.01494945, 0.01495067, 0.01495187, 0.01495306,\n",
       "       0.01495424, 0.0149554 , 0.01495655, 0.01495769, 0.01495881,\n",
       "       0.01495992, 0.01496102, 0.0149621 , 0.01496318, 0.01496424,\n",
       "       0.01496529, 0.01496633, 0.01496736, 0.01496838, 0.01496938,\n",
       "       0.01497038, 0.01497137, 0.01497234, 0.0149733 , 0.01497426,\n",
       "       0.0149752 , 0.01497614, 0.01497706, 0.01497797, 0.01497888,\n",
       "       0.01497978, 0.01498066, 0.01498154, 0.01498241, 0.01498327,\n",
       "       0.01498412, 0.01498496, 0.0149858 , 0.01498662, 0.01498744])"
      ]
     },
     "execution_count": 53,
     "metadata": {},
     "output_type": "execute_result"
    }
   ],
   "source": [
    "(flux - c.h_nu_zero(freqs, nh = 2000))/flux"
   ]
  },
  {
   "cell_type": "code",
   "execution_count": 37,
   "metadata": {},
   "outputs": [],
   "source": [
    "flux = c.h_nu_zero(freqs)"
   ]
  },
  {
   "cell_type": "code",
   "execution_count": 38,
   "metadata": {},
   "outputs": [
    {
     "data": {
      "text/plain": [
       "[<matplotlib.lines.Line2D at 0x7f2705de5490>]"
      ]
     },
     "execution_count": 38,
     "metadata": {},
     "output_type": "execute_result"
    },
    {
     "data": {
      "image/png": "[encoded data removed]",
      "text/plain": [
       "<Figure size 432x288 with 1 Axes>"
      ]
     },
     "metadata": {
      "needs_background": "light"
     },
     "output_type": "display_data"
    }
   ],
   "source": [
    "plt.plot(1e4/freqs, 2*np.pi *flux)"
   ]
  },
  {
   "cell_type": "code",
   "execution_count": 832,
   "metadata": {},
   "outputs": [
    {
     "data": {
      "text/plain": [
       "[<matplotlib.lines.Line2D at 0x7fed19e21790>]"
      ]
     },
     "execution_count": 832,
     "metadata": {},
     "output_type": "execute_result"
    },
    {
     "data": {
      "image/png": "[encoded data removed]",
      "text/plain": [
       "<Figure size 432x288 with 1 Axes>"
      ]
     },
     "metadata": {
      "needs_background": "light"
     },
     "output_type": "display_data"
    }
   ],
   "source": [
    "plt.plot(1e4/freqs, 2*np.pi *flux)"
   ]
  },
  {
   "cell_type": "code",
   "execution_count": 652,
   "metadata": {},
   "outputs": [
    {
     "data": {
      "text/plain": [
       "array([[3.14265469e-05]])"
      ]
     },
     "execution_count": 652,
     "metadata": {},
     "output_type": "execute_result"
    }
   ],
   "source": [
    "planck(np.array([1e4/5000]), np.array([6220]))"
   ]
  },
  {
   "cell_type": "code",
   "execution_count": 556,
   "metadata": {},
   "outputs": [
    {
     "data": {
      "text/plain": [
       "array([0.00018952, 0.00098732, 0.00197179, 0.0001226 , 0.00147133,\n",
       "       0.00372866])"
      ]
     },
     "execution_count": 556,
     "metadata": {},
     "output_type": "execute_result"
    }
   ],
   "source": [
    "planck(np.array([1e4/5005, 1e4/3000]), np.array([1e4, 2e4, 3e4])).flatten()"
   ]
  },
  {
   "cell_type": "code",
   "execution_count": 31,
   "metadata": {},
   "outputs": [
    {
     "data": {
      "text/plain": [
       "array([[6.10320326e-07, 9.43702963e-07],\n",
       "       [5.22585308e-07, 7.69421095e-07]])"
      ]
     },
     "execution_count": 31,
     "metadata": {},
     "output_type": "execute_result"
    }
   ],
   "source": [
    "c.tauTot(np.array([1950, 1900]), np.array([1e4/5890, 1e4/5896]))"
   ]
  },
  {
   "cell_type": "code",
   "execution_count": 774,
   "metadata": {},
   "outputs": [],
   "source": [
    "hs = np.linspace(2000, -75, 30)\n",
    "freqs = np.linspace(1e4/5886, 1e4/5900, 1000)\n",
    "tauConty = c.tauTot(hs, freqs)"
   ]
  },
  {
   "cell_type": "code",
   "execution_count": 622,
   "metadata": {},
   "outputs": [
    {
     "data": {
      "text/plain": [
       "array([[1.23401474e-05]])"
      ]
     },
     "execution_count": 622,
     "metadata": {},
     "output_type": "execute_result"
    }
   ],
   "source": [
    "planck(np.array([1e4/5000]), np.array([5180]))"
   ]
  },
  {
   "cell_type": "code",
   "execution_count": 401,
   "metadata": {},
   "outputs": [
    {
     "data": {
      "image/png": "[encoded data removed]",
      "text/plain": [
       "<Figure size 432x288 with 2 Axes>"
      ]
     },
     "metadata": {
      "needs_background": "light"
     },
     "output_type": "display_data"
    }
   ],
   "source": [
    "fig, ax = plt.subplots()\n",
    "cs = ax.contourf(1e4/freqs, np.log10(c.tau(hs)), np.transpose(np.log10(tauConty)))\n",
    "cbar = fig.colorbar(cs)"
   ]
  },
  {
   "cell_type": "code",
   "execution_count": 372,
   "metadata": {},
   "outputs": [
    {
     "data": {
      "text/plain": [
       "3.9542425094393248"
      ]
     },
     "execution_count": 372,
     "metadata": {},
     "output_type": "execute_result"
    }
   ],
   "source": [
    "min(c.valiic['h'][c.valiic['h'] >= 20])\n",
    "np.log10(9e3)"
   ]
  },
  {
   "cell_type": "code",
   "execution_count": 238,
   "metadata": {},
   "outputs": [
    {
     "name": "stdout",
     "output_type": "stream",
     "text": [
      "[0.03732265 0.03700519 0.03670047]\n"
     ]
    },
    {
     "data": {
      "text/plain": [
       "array([[4.88569812e-03, 4.68162714e-03, 4.49084584e-03],\n",
       "       [4.74536543e+02, 4.70446234e+02, 4.67261576e+02]])"
      ]
     },
     "execution_count": 238,
     "metadata": {},
     "output_type": "execute_result"
    }
   ],
   "source": [
    "(c.lineK(np.array([0, 5, 10]), np.array([1e4/5900, 1e4/5896]), 'NaD1'))"
   ]
  },
  {
   "cell_type": "code",
   "execution_count": 57,
   "metadata": {},
   "outputs": [
    {
     "data": {
      "text/plain": [
       "array([1.04695368e-27, 1.04375917e-27])"
      ]
     },
     "execution_count": 57,
     "metadata": {},
     "output_type": "execute_result"
    }
   ],
   "source": [
    "(kHFF(c.T(0), np.array([1e4/5896, 1e4/5890])))"
   ]
  },
  {
   "cell_type": "code",
   "execution_count": 69,
   "metadata": {},
   "outputs": [
    {
     "data": {
      "text/plain": [
       "array([[0.8878137 ],\n",
       "       [0.70422507]])"
      ]
     },
     "execution_count": 69,
     "metadata": {},
     "output_type": "execute_result"
    }
   ],
   "source": [
    "c = valiic()\n",
    "c.kTot(np.array([0, 10]), 1)"
   ]
  },
  {
   "cell_type": "markdown",
   "metadata": {},
   "source": [
    "c = valiic()\n",
    "c.lineK(0, 1e4/5896, 'NaD1')"
   ]
  },
  {
   "cell_type": "code",
   "execution_count": 91,
   "metadata": {},
   "outputs": [
    {
     "data": {
      "text/plain": [
       "0.05278220125057454"
      ]
     },
     "execution_count": 91,
     "metadata": {},
     "output_type": "execute_result"
    }
   ],
   "source": [
    "c.sigTot(0, 'NaD1')*2**0.5"
   ]
  },
  {
   "cell_type": "code",
   "execution_count": 345,
   "metadata": {},
   "outputs": [
    {
     "data": {
      "text/plain": [
       "array([[8.61368324e-03, 8.68833745e-03],\n",
       "       [7.58449287e-08, 7.65095980e-08]])"
      ]
     },
     "execution_count": 345,
     "metadata": {},
     "output_type": "execute_result"
    }
   ],
   "source": [
    "c.lineK(np.array([1, 0]), np.array([1e4/5893, 1e4/4879]), 'NaD1')"
   ]
  },
  {
   "cell_type": "code",
   "execution_count": 60,
   "metadata": {},
   "outputs": [
    {
     "data": {
      "text/plain": [
       "0.21023765996343693"
      ]
     },
     "execution_count": 60,
     "metadata": {},
     "output_type": "execute_result"
    }
   ],
   "source": [
    "(547-432)/547"
   ]
  },
  {
   "cell_type": "code",
   "execution_count": 56,
   "metadata": {},
   "outputs": [
    {
     "data": {
      "text/plain": [
       "0.03090751480083856"
      ]
     },
     "execution_count": 56,
     "metadata": {},
     "output_type": "execute_result"
    }
   ],
   "source": [
    "(477-462.25711544)/477"
   ]
  },
  {
   "cell_type": "code",
   "execution_count": 51,
   "metadata": {},
   "outputs": [
    {
     "data": {
      "text/plain": [
       "0.641110008"
      ]
     },
     "execution_count": 51,
     "metadata": {},
     "output_type": "execute_result"
    }
   ],
   "source": [
    "8.05234170048/(4 *3.14)"
   ]
  },
  {
   "cell_type": "code",
   "execution_count": 39,
   "metadata": {},
   "outputs": [],
   "source": []
  },
  {
   "cell_type": "code",
   "execution_count": 19,
   "metadata": {},
   "outputs": [],
   "source": [
    "def voigt(x, sigma, gamma):\n",
    "    z = (x + 1j * gamma)/(sigma * 2**.5)\n",
    "    return np.real(special.wofz(z))/sigma / np.sqrt(2 * np.pi)\n"
   ]
  },
  {
   "cell_type": "code",
   "execution_count": 72,
   "metadata": {},
   "outputs": [
    {
     "data": {
      "text/plain": [
       "array([7.35535196])"
      ]
     },
     "execution_count": 72,
     "metadata": {},
     "output_type": "execute_result"
    }
   ],
   "source": [
    "c = valiic()\n",
    "np.log10(c.g6(0, 'NaD1'))\n",
    "np.log10(c.g4(0, 'NaD1'))"
   ]
  },
  {
   "cell_type": "code",
   "execution_count": 58,
   "metadata": {},
   "outputs": [
    {
     "data": {
      "text/plain": [
       "array([7.33268765])"
      ]
     },
     "execution_count": 58,
     "metadata": {},
     "output_type": "execute_result"
    }
   ],
   "source": [
    "\n",
    "np.log10(c.g4(1e4/5890, c.lc4d1))"
   ]
  },
  {
   "cell_type": "code",
   "execution_count": 36,
   "metadata": {},
   "outputs": [
    {
     "name": "stdout",
     "output_type": "stream",
     "text": [
      "[-1818.79492945 -1781.78397392 -1744.74807838 -1707.68721764\n",
      " -1670.60136642 -1633.49049946 -1596.35459142 -1559.19361696\n",
      " -1522.00755069 -1484.79636718 -1447.56004098 -1410.2985466\n",
      " -1373.01185851 -1335.69995115 -1298.36279893 -1261.00037622\n",
      " -1223.61265735 -1186.19961662 -1148.76122831 -1111.29746664\n",
      " -1073.80830581 -1036.29371998  -998.75368328  -961.18816979\n",
      "  -923.59715359  -885.98060867  -848.33850905  -810.67082865\n",
      "  -772.9775414   -735.25862118  -697.51404182  -659.74377715\n",
      "  -621.94780093  -584.12608689  -546.27860875  -508.40534016\n",
      "  -470.50625476  -432.58132613  -394.63052784  -356.6538334\n",
      "  -318.65121631  -280.62265001  -242.56810791  -204.48756339\n",
      "  -166.38098979  -128.24836041   -90.08964852   -51.90482736\n",
      "   -13.69387011    24.54325008    62.80656006   101.09608678\n",
      "   139.41185717   177.75389823   216.12223699   254.51690051\n",
      "   292.93791589   331.38531027   369.85911083   408.35934478\n",
      "   446.88603937   485.43922189   524.01891967   562.62516007\n",
      "   601.25797049   639.91737836   678.60341118   717.31609645\n",
      "   756.05546172   794.82153458   833.61434267   872.43391364\n",
      "   911.28027521   950.15345512   989.05348115  1027.98038111\n",
      "  1066.93418287  1105.91491433  1144.92260341  1183.9572781\n",
      "  1223.0189664   1262.10769637  1301.2234961   1340.36639372\n",
      "  1379.53641739  1418.73359532  1457.95795576  1497.209527\n",
      "  1536.48833735  1575.79441519  1615.12778892  1654.48848697\n",
      "  1693.87653784  1733.29197005  1772.73481215  1812.20509275\n",
      "  1851.7028405   1891.22808406  1930.78085217  1970.36117358] [0.11935564] 0.3200032250781\n",
      "[-1706.85721096 -1669.80855326 -1632.73493016 -1595.63631641\n",
      " -1558.51268674 -1521.36401584 -1484.19027836 -1446.99144891\n",
      " -1409.7675021  -1372.51841246 -1335.24415452 -1297.94470276\n",
      " -1260.62003162 -1223.27011553 -1185.89492886 -1148.49444595\n",
      " -1111.06864112 -1073.61748864 -1036.14096275  -998.63903766\n",
      "  -961.11168753  -923.5588865   -885.98060867  -848.37682812\n",
      "  -810.74751885  -773.09265488  -735.41221016  -697.70615861\n",
      "  -659.97447412  -622.21713055  -584.43410171  -546.62536139\n",
      "  -508.79088332  -470.93064123  -433.04460878  -395.13275961\n",
      "  -357.19506732  -319.23150549  -281.24204765  -243.22666727\n",
      "  -205.18533784  -167.11803276  -129.02472542   -90.90538917\n",
      "   -52.75999733   -14.58852317    23.60906007    61.83277919\n",
      "   100.08266101   138.35873242   176.66102031   214.98955164\n",
      "   253.34435337   291.72545254   330.13287619   368.56665142\n",
      "   407.02680536   445.51336517   484.02635805   522.56581126\n",
      "   561.13175206   599.72420777   638.34320575   676.98877339\n",
      "   715.66093811   754.35972739   793.08516873   831.83728967\n",
      "   870.61611779   909.42168071   948.25400609   987.11312162\n",
      "  1025.99905504  1064.91183411  1103.85148665  1142.8180405\n",
      "  1181.81152355  1220.83196373  1259.879389    1298.95382737\n",
      "  1338.05530686  1377.18385557  1416.33950162  1455.52227315\n",
      "  1494.73219837  1533.96930552  1573.23362286  1612.52517872\n",
      "  1651.84400145  1691.19011943  1730.56356111  1769.96435496\n",
      "  1809.39252948  1848.84811323  1888.3311348   1927.84162281\n",
      "  1967.37960595  2006.94511292  2046.53817247  2086.1588134 ] [0.11942404] 0.6407849925481951\n"
     ]
    },
    {
     "data": {
      "text/plain": [
       "[<matplotlib.lines.Line2D at 0x7fbc996eae90>]"
      ]
     },
     "execution_count": 36,
     "metadata": {},
     "output_type": "execute_result"
    },
    {
     "data": {
      "image/png": "[encoded data removed]",
      "text/plain": [
       "<Figure size 432x288 with 1 Axes>"
      ]
     },
     "metadata": {
      "needs_background": "light"
     },
     "output_type": "display_data"
    }
   ],
   "source": [
    "vs = np.linspace(1e4/5800, 1e4/6000, 100)\n",
    "plt.plot(1e4/vs, c.linea(0, vs, 'NaD1') + c.linea(0, vs, 'NaD2'))"
   ]
  },
  {
   "cell_type": "code",
   "execution_count": 24,
   "metadata": {},
   "outputs": [
    {
     "data": {
      "text/plain": [
       "0.05278220125057454"
      ]
     },
     "execution_count": 24,
     "metadata": {},
     "output_type": "execute_result"
    }
   ],
   "source": [
    "c.sigTot(0, 'NaD1')*2**0.5 "
   ]
  },
  {
   "cell_type": "code",
   "execution_count": 37,
   "metadata": {},
   "outputs": [
    {
     "data": {
      "text/plain": [
       "[<matplotlib.lines.Line2D at 0x7f848fc72810>]"
      ]
     },
     "execution_count": 37,
     "metadata": {},
     "output_type": "execute_result"
    },
    {
     "data": {
      "image/png": "[encoded data removed]",
      "text/plain": [
       "<Figure size 432x288 with 1 Axes>"
      ]
     },
     "metadata": {
      "needs_background": "light"
     },
     "output_type": "display_data"
    }
   ],
   "source": [
    "plt.plot(np.linspace(-10, 10, 1000), voigt(np.linspace(-10, 10, 1000), .0373, 6.8e9/sc.c))"
   ]
  },
  {
   "cell_type": "code",
   "execution_count": 32,
   "metadata": {},
   "outputs": [
    {
     "data": {
      "text/plain": [
       "array([4.68102774e-11, 4.68102774e-11, 4.68102774e-11, 4.68102774e-11,\n",
       "       4.68102774e-11, 4.68102774e-11, 4.68102774e-11, 4.68102774e-11,\n",
       "       4.68102774e-11, 4.68102774e-11, 4.68102774e-11, 4.68102774e-11,\n",
       "       4.68102774e-11, 4.68102774e-11, 4.68102774e-11, 4.68102774e-11,\n",
       "       4.68102774e-11, 4.68102774e-11, 4.68102774e-11, 4.68102774e-11,\n",
       "       4.68102774e-11, 4.68102774e-11, 4.68102774e-11, 4.68102774e-11,\n",
       "       4.68102774e-11, 4.68102774e-11, 4.68102774e-11, 4.68102774e-11,\n",
       "       4.68102774e-11, 4.68102774e-11, 4.68102774e-11, 4.68102774e-11,\n",
       "       4.68102774e-11, 4.68102774e-11, 4.68102774e-11, 4.68102774e-11,\n",
       "       4.68102774e-11, 4.68102774e-11, 4.68102774e-11, 4.68102774e-11,\n",
       "       4.68102774e-11, 4.68102774e-11, 4.68102774e-11, 4.68102774e-11,\n",
       "       4.68102774e-11, 4.68102774e-11, 4.68102774e-11, 4.68102774e-11,\n",
       "       4.68102774e-11, 4.68102774e-11, 4.68102774e-11, 4.68102774e-11,\n",
       "       4.68102774e-11, 4.68102774e-11, 4.68102774e-11, 4.68102774e-11,\n",
       "       4.68102774e-11, 4.68102774e-11, 4.68102774e-11, 4.68102774e-11,\n",
       "       4.68102774e-11, 4.68102774e-11, 4.68102774e-11, 4.68102774e-11,\n",
       "       4.68102774e-11, 4.68102774e-11, 4.68102774e-11, 4.68102774e-11,\n",
       "       4.68102774e-11, 4.68102774e-11, 4.68102774e-11, 4.68102774e-11,\n",
       "       4.68102774e-11, 4.68102774e-11, 4.68102774e-11, 4.68102774e-11,\n",
       "       4.68102774e-11, 4.68102774e-11, 4.68102774e-11, 4.68102774e-11,\n",
       "       4.68102774e-11, 4.68102774e-11, 4.68102774e-11, 4.68102774e-11,\n",
       "       4.68102774e-11, 4.68102774e-11, 4.68102774e-11, 4.68102774e-11,\n",
       "       4.68102774e-11, 4.68102774e-11, 4.68102774e-11, 4.68102774e-11,\n",
       "       4.68102774e-11, 4.68102774e-11, 4.68102774e-11, 4.68102774e-11,\n",
       "       4.68102774e-11, 4.68102774e-11, 4.68102774e-11, 4.68102774e-11,\n",
       "       4.68102774e-11, 4.68102774e-11, 4.68102774e-11, 4.68102774e-11,\n",
       "       4.68102774e-11, 4.68102774e-11, 4.68102774e-11, 4.68102774e-11,\n",
       "       4.68102774e-11, 4.68102774e-11, 4.68102774e-11, 4.68102774e-11,\n",
       "       4.68102774e-11, 4.68102774e-11, 4.68102774e-11, 4.68102774e-11,\n",
       "       4.68102774e-11, 4.68102774e-11, 4.68102774e-11, 4.68102774e-11,\n",
       "       4.68102774e-11, 4.68102774e-11, 4.68102774e-11, 4.68102774e-11,\n",
       "       4.68102774e-11, 4.68102774e-11, 4.68102774e-11, 4.68102774e-11,\n",
       "       4.68102774e-11, 4.68102774e-11, 4.68102774e-11, 4.68102774e-11,\n",
       "       4.68102774e-11, 4.68102774e-11, 4.68102774e-11, 4.68102774e-11,\n",
       "       4.68102774e-11, 4.68102774e-11, 4.68102774e-11, 4.68102774e-11,\n",
       "       4.68102774e-11, 4.68102774e-11, 4.68102774e-11, 4.68102774e-11,\n",
       "       4.68102774e-11, 4.68102774e-11, 4.68102774e-11, 4.68102774e-11,\n",
       "       4.68102774e-11, 4.68102774e-11, 4.68102774e-11, 4.68102774e-11,\n",
       "       4.68102774e-11, 4.68102774e-11, 4.68102774e-11, 4.68102774e-11,\n",
       "       4.68102774e-11, 4.68102774e-11, 4.68102774e-11, 4.68102774e-11,\n",
       "       4.68102774e-11, 4.68102774e-11, 4.68102774e-11, 4.68102774e-11,\n",
       "       4.68102774e-11, 4.68102774e-11, 4.68102774e-11, 4.68102774e-11,\n",
       "       4.68102774e-11, 4.68102774e-11, 4.68102774e-11, 4.68102774e-11,\n",
       "       4.68102774e-11, 4.68102774e-11, 4.68102774e-11, 4.68102774e-11,\n",
       "       4.68102774e-11, 4.68102774e-11, 4.68102774e-11, 4.68102774e-11,\n",
       "       4.68102774e-11, 4.68102774e-11, 4.68102774e-11, 4.68102774e-11,\n",
       "       4.68102774e-11, 4.68102774e-11, 4.68102774e-11, 4.68102774e-11,\n",
       "       4.68102774e-11, 4.68102774e-11, 4.68102774e-11, 4.68102774e-11,\n",
       "       4.68102774e-11, 4.68102774e-11, 4.68102774e-11, 4.68102774e-11,\n",
       "       4.68102774e-11, 4.68102774e-11, 4.68102774e-11, 4.68102774e-11,\n",
       "       4.68102774e-11, 4.68102774e-11, 4.68102774e-11, 4.68102774e-11,\n",
       "       4.68102774e-11, 4.68102774e-11, 4.68102774e-11, 4.68102774e-11,\n",
       "       4.68102774e-11, 4.68102774e-11, 4.68102774e-11, 4.68102774e-11,\n",
       "       4.68102774e-11, 4.68102774e-11, 4.68102774e-11, 4.68102774e-11,\n",
       "       4.68102774e-11, 4.68102774e-11, 4.68102774e-11, 4.68102774e-11,\n",
       "       4.68102774e-11, 4.68102774e-11, 4.68102774e-11, 4.68102774e-11,\n",
       "       4.68102774e-11, 4.68102774e-11, 4.68102774e-11, 4.68102774e-11,\n",
       "       4.68102774e-11, 4.68102774e-11, 4.68102774e-11, 4.68102774e-11,\n",
       "       4.68102774e-11, 4.68102774e-11, 4.68102774e-11, 4.68102774e-11,\n",
       "       4.68102774e-11, 4.68102774e-11, 4.68102774e-11, 4.68102774e-11,\n",
       "       4.68102774e-11, 4.68102774e-11, 4.68102774e-11, 4.68102774e-11,\n",
       "       4.68102774e-11, 4.68102774e-11, 4.68102774e-11, 4.68102774e-11,\n",
       "       4.68102774e-11, 4.68102774e-11, 4.68102774e-11, 4.68102774e-11,\n",
       "       4.68102774e-11, 4.68102774e-11, 4.68102774e-11, 4.68102774e-11,\n",
       "       4.68102774e-11, 4.68102774e-11, 4.68102774e-11, 4.68102774e-11,\n",
       "       4.68102774e-11, 4.68102774e-11, 4.68102774e-11, 4.68102774e-11,\n",
       "       4.68102774e-11, 4.68102774e-11, 4.68102774e-11, 4.68102774e-11,\n",
       "       4.68102774e-11, 4.68102774e-11, 4.68102774e-11, 4.68102774e-11,\n",
       "       4.68102774e-11, 4.68102774e-11, 4.68102774e-11, 4.68102774e-11,\n",
       "       4.68102774e-11, 4.68102774e-11, 4.68102774e-11, 4.68102774e-11,\n",
       "       4.68102774e-11, 4.68102774e-11, 4.68102774e-11, 4.68102774e-11,\n",
       "       4.68102774e-11, 4.68102774e-11, 4.68102774e-11, 4.68102774e-11,\n",
       "       4.68102774e-11, 4.68102774e-11, 4.68102774e-11, 4.68102774e-11,\n",
       "       4.68102774e-11, 4.68102774e-11, 4.68102774e-11, 4.68102774e-11,\n",
       "       4.68102774e-11, 4.68102774e-11, 4.68102774e-11, 4.68102774e-11,\n",
       "       4.68102774e-11, 4.68102774e-11, 4.68102774e-11, 4.68102774e-11,\n",
       "       4.68102774e-11, 4.68102774e-11, 4.68102774e-11, 4.68102774e-11,\n",
       "       4.68102774e-11, 4.68102774e-11, 4.68102774e-11, 4.68102774e-11,\n",
       "       4.68102774e-11, 4.68102774e-11, 4.68102774e-11, 4.68102774e-11,\n",
       "       4.68102774e-11, 4.68102774e-11, 4.68102774e-11, 4.68102774e-11,\n",
       "       4.68102774e-11, 4.68102774e-11, 4.68102774e-11, 4.68102774e-11,\n",
       "       4.68102774e-11, 4.68102774e-11, 4.68102774e-11, 4.68102774e-11,\n",
       "       4.68102774e-11, 4.68102774e-11, 4.68102774e-11, 4.68102774e-11,\n",
       "       4.68102774e-11, 4.68102774e-11, 4.68102774e-11, 4.68102774e-11,\n",
       "       4.68102774e-11, 4.68102774e-11, 4.68102774e-11, 4.68102774e-11,\n",
       "       4.68102774e-11, 4.68102774e-11, 4.68102774e-11, 4.68102774e-11,\n",
       "       4.68102774e-11, 4.68102774e-11, 4.68102774e-11, 4.68102774e-11,\n",
       "       4.68102774e-11, 4.68102774e-11, 4.68102774e-11, 4.68102774e-11,\n",
       "       4.68102774e-11, 4.68102774e-11, 4.68102774e-11, 4.68102774e-11,\n",
       "       4.68102774e-11, 4.68102774e-11, 4.68102774e-11, 4.68102774e-11,\n",
       "       4.68102774e-11, 4.68102774e-11, 4.68102774e-11, 4.68102774e-11,\n",
       "       4.68102774e-11, 4.68102774e-11, 4.68102774e-11, 4.68102774e-11,\n",
       "       4.68102774e-11, 4.68102774e-11, 4.68102774e-11, 4.68102774e-11,\n",
       "       4.68102774e-11, 4.68102774e-11, 4.68102774e-11, 4.68102774e-11,\n",
       "       4.68102774e-11, 4.68102774e-11, 4.68102774e-11, 4.68102774e-11,\n",
       "       4.68102774e-11, 4.68102774e-11, 4.68102774e-11, 4.68102774e-11,\n",
       "       4.68102774e-11, 4.68102774e-11, 4.68102774e-11, 4.68102774e-11,\n",
       "       4.68102774e-11, 4.68102774e-11, 4.68102774e-11, 4.68102774e-11,\n",
       "       4.68102774e-11, 4.68102774e-11, 4.68102774e-11, 4.68102774e-11,\n",
       "       4.68102774e-11, 4.68102774e-11, 4.68102774e-11, 4.68102774e-11,\n",
       "       4.68102774e-11, 4.68102774e-11, 4.68102774e-11, 4.68102774e-11,\n",
       "       4.68102774e-11, 4.68102774e-11, 4.68102774e-11, 4.68102774e-11,\n",
       "       4.68102774e-11, 4.68102774e-11, 4.68102774e-11, 4.68102774e-11,\n",
       "       4.68102774e-11, 4.68102774e-11, 4.68102774e-11, 4.68102774e-11,\n",
       "       4.68102774e-11, 4.68102774e-11, 4.68102774e-11, 4.68102774e-11,\n",
       "       4.68102774e-11, 4.68102774e-11, 4.68102774e-11, 4.68102774e-11,\n",
       "       4.68102774e-11, 4.68102774e-11, 4.68102774e-11, 4.68102774e-11,\n",
       "       4.68102774e-11, 4.68102774e-11, 4.68102774e-11, 4.68102774e-11,\n",
       "       4.68102774e-11, 4.68102774e-11, 4.68102774e-11, 4.68102774e-11,\n",
       "       4.68102774e-11, 4.68102774e-11, 4.68102774e-11, 4.68102774e-11,\n",
       "       4.68102774e-11, 4.68102774e-11, 4.68102774e-11, 4.68102774e-11,\n",
       "       4.68102774e-11, 4.68102774e-11, 4.68102774e-11, 4.68102774e-11,\n",
       "       4.68102774e-11, 4.68102774e-11, 4.68102774e-11, 4.68102774e-11,\n",
       "       4.68102774e-11, 4.68102774e-11, 4.68102774e-11, 4.68102774e-11,\n",
       "       4.68102774e-11, 4.68102774e-11, 4.68102774e-11, 4.68102774e-11,\n",
       "       4.68102774e-11, 4.68102774e-11, 4.68102774e-11, 4.68102774e-11,\n",
       "       4.68102774e-11, 4.68102774e-11, 4.68102774e-11, 4.68102774e-11,\n",
       "       4.68102774e-11, 4.68102774e-11, 4.68102774e-11, 4.68102774e-11,\n",
       "       4.68102774e-11, 4.68102774e-11, 4.68102774e-11, 4.68102774e-11,\n",
       "       4.68102774e-11, 4.68102774e-11, 4.68102774e-11, 4.68102774e-11,\n",
       "       4.68102774e-11, 4.68102774e-11, 4.68102774e-11, 4.68102774e-11,\n",
       "       4.68102774e-11, 4.68102774e-11, 4.68102774e-11, 4.68102774e-11,\n",
       "       4.68102774e-11, 4.68102774e-11, 4.68102774e-11, 4.68102774e-11,\n",
       "       4.68102774e-11, 4.68102774e-11, 4.68102774e-11, 4.68102774e-11,\n",
       "       4.68102774e-11, 4.68102774e-11, 4.68102774e-11, 4.68102774e-11,\n",
       "       4.68102774e-11, 4.68102774e-11, 4.68102774e-11, 4.68102774e-11,\n",
       "       4.68102774e-11, 4.68102774e-11, 4.68102774e-11, 4.68102774e-11,\n",
       "       4.68102774e-11, 4.68102774e-11, 4.68102774e-11, 4.68102774e-11,\n",
       "       4.68102774e-11, 4.68102774e-11, 4.68102774e-11, 4.68102774e-11,\n",
       "       4.68102774e-11, 4.68102774e-11, 4.68102774e-11, 4.68102774e-11,\n",
       "       4.68102774e-11, 4.68102774e-11, 4.68102774e-11, 4.68102774e-11,\n",
       "       4.68102774e-11, 4.68102774e-11, 4.68102774e-11, 4.68102774e-11,\n",
       "       4.68102774e-11, 4.68102774e-11, 4.68102774e-11, 4.68102774e-11,\n",
       "       4.68102774e-11, 4.68102774e-11, 4.68102774e-11, 4.68102774e-11,\n",
       "       4.68102774e-11, 4.68102774e-11, 4.68102774e-11, 4.68102774e-11,\n",
       "       4.68102774e-11, 4.68102774e-11, 4.68102774e-11, 4.68102774e-11,\n",
       "       4.68102774e-11, 4.68102774e-11, 4.68102774e-11, 4.68102774e-11,\n",
       "       4.68102774e-11, 4.68102774e-11, 4.68102774e-11, 4.68102774e-11,\n",
       "       4.68102774e-11, 4.68102774e-11, 4.68102774e-11, 4.68102774e-11,\n",
       "       4.68102774e-11, 4.68102774e-11, 4.68102774e-11, 4.68102774e-11,\n",
       "       4.68102774e-11, 4.68102774e-11, 4.68102774e-11, 4.68102774e-11,\n",
       "       4.68102774e-11, 4.68102774e-11, 4.68102774e-11, 4.68102774e-11,\n",
       "       4.68102774e-11, 4.68102774e-11, 4.68102774e-11, 4.68102774e-11,\n",
       "       4.68102774e-11, 4.68102774e-11, 4.68102774e-11, 4.68102774e-11,\n",
       "       4.68102774e-11, 4.68102774e-11, 4.68102774e-11, 4.68102774e-11,\n",
       "       4.68102774e-11, 4.68102774e-11, 4.68102774e-11, 4.68102774e-11,\n",
       "       4.68102774e-11, 4.68102774e-11, 4.68102774e-11, 4.68102774e-11,\n",
       "       4.68102774e-11, 4.68102774e-11, 4.68102774e-11, 4.68102774e-11,\n",
       "       4.68102774e-11, 4.68102774e-11, 4.68102774e-11, 4.68102774e-11,\n",
       "       4.68102774e-11, 4.68102774e-11, 4.68102774e-11, 4.68102774e-11,\n",
       "       4.68102774e-11, 4.68102774e-11, 4.68102774e-11, 4.68102774e-11,\n",
       "       4.68102774e-11, 4.68102774e-11, 4.68102774e-11, 4.68102774e-11,\n",
       "       4.68102774e-11, 4.68102774e-11, 4.68102774e-11, 4.68102774e-11,\n",
       "       4.68102774e-11, 4.68102774e-11, 4.68102774e-11, 4.68102774e-11,\n",
       "       4.68102774e-11, 4.68102774e-11, 4.68102774e-11, 4.68102774e-11,\n",
       "       4.68102774e-11, 4.68102774e-11, 4.68102774e-11, 4.68102774e-11,\n",
       "       4.68102774e-11, 4.68102774e-11, 4.68102774e-11, 4.68102774e-11,\n",
       "       4.68102774e-11, 4.68102774e-11, 4.68102774e-11, 4.68102774e-11,\n",
       "       4.68102774e-11, 4.68102774e-11, 4.68102774e-11, 4.68102774e-11,\n",
       "       4.68102774e-11, 4.68102774e-11, 4.68102774e-11, 4.68102774e-11,\n",
       "       4.68102774e-11, 4.68102774e-11, 4.68102774e-11, 4.68102774e-11,\n",
       "       4.68102774e-11, 4.68102774e-11, 4.68102774e-11, 4.68102774e-11,\n",
       "       4.68102774e-11, 4.68102774e-11, 4.68102774e-11, 4.68102774e-11,\n",
       "       4.68102774e-11, 4.68102774e-11, 4.68102774e-11, 4.68102774e-11,\n",
       "       4.68102774e-11, 4.68102774e-11, 4.68102774e-11, 4.68102774e-11,\n",
       "       4.68102774e-11, 4.68102774e-11, 4.68102774e-11, 4.68102774e-11,\n",
       "       4.68102774e-11, 4.68102774e-11, 4.68102774e-11, 4.68102774e-11,\n",
       "       4.68102774e-11, 4.68102774e-11, 4.68102774e-11, 4.68102774e-11,\n",
       "       4.68102774e-11, 4.68102774e-11, 4.68102774e-11, 4.68102774e-11,\n",
       "       4.68102774e-11, 4.68102774e-11, 4.68102774e-11, 4.68102774e-11,\n",
       "       4.68102774e-11, 4.68102774e-11, 4.68102774e-11, 4.68102774e-11,\n",
       "       4.68102774e-11, 4.68102774e-11, 4.68102774e-11, 4.68102774e-11,\n",
       "       4.68102774e-11, 4.68102774e-11, 4.68102774e-11, 4.68102774e-11,\n",
       "       4.68102774e-11, 4.68102774e-11, 4.68102774e-11, 4.68102774e-11,\n",
       "       4.68102774e-11, 4.68102774e-11, 4.68102774e-11, 4.68102774e-11,\n",
       "       4.68102774e-11, 4.68102774e-11, 4.68102774e-11, 4.68102774e-11,\n",
       "       4.68102774e-11, 4.68102774e-11, 4.68102774e-11, 4.68102774e-11,\n",
       "       4.68102774e-11, 4.68102774e-11, 4.68102774e-11, 4.68102774e-11,\n",
       "       4.68102774e-11, 4.68102774e-11, 4.68102774e-11, 4.68102774e-11,\n",
       "       4.68102774e-11, 4.68102774e-11, 4.68102774e-11, 4.68102774e-11,\n",
       "       4.68102774e-11, 4.68102774e-11, 4.68102774e-11, 4.68102774e-11,\n",
       "       4.68102774e-11, 4.68102774e-11, 4.68102774e-11, 4.68102774e-11,\n",
       "       4.68102774e-11, 4.68102774e-11, 4.68102774e-11, 4.68102774e-11,\n",
       "       4.68102774e-11, 4.68102774e-11, 4.68102774e-11, 4.68102774e-11,\n",
       "       4.68102774e-11, 4.68102774e-11, 4.68102774e-11, 4.68102774e-11,\n",
       "       4.68102774e-11, 4.68102774e-11, 4.68102774e-11, 4.68102774e-11,\n",
       "       4.68102774e-11, 4.68102774e-11, 4.68102774e-11, 4.68102774e-11,\n",
       "       4.68102774e-11, 4.68102774e-11, 4.68102774e-11, 4.68102774e-11,\n",
       "       4.68102774e-11, 4.68102774e-11, 4.68102774e-11, 4.68102774e-11,\n",
       "       4.68102774e-11, 4.68102774e-11, 4.68102774e-11, 4.68102774e-11,\n",
       "       4.68102774e-11, 4.68102774e-11, 4.68102774e-11, 4.68102774e-11,\n",
       "       4.68102774e-11, 4.68102774e-11, 4.68102774e-11, 4.68102774e-11,\n",
       "       4.68102774e-11, 4.68102774e-11, 4.68102774e-11, 4.68102774e-11,\n",
       "       4.68102774e-11, 4.68102774e-11, 4.68102774e-11, 4.68102774e-11,\n",
       "       4.68102774e-11, 4.68102774e-11, 4.68102774e-11, 4.68102774e-11,\n",
       "       4.68102774e-11, 4.68102774e-11, 4.68102774e-11, 4.68102774e-11,\n",
       "       4.68102774e-11, 4.68102774e-11, 4.68102774e-11, 4.68102774e-11,\n",
       "       4.68102774e-11, 4.68102774e-11, 4.68102774e-11, 4.68102774e-11,\n",
       "       4.68102774e-11, 4.68102774e-11, 4.68102774e-11, 4.68102774e-11,\n",
       "       4.68102774e-11, 4.68102774e-11, 4.68102774e-11, 4.68102774e-11,\n",
       "       4.68102774e-11, 4.68102774e-11, 4.68102774e-11, 4.68102774e-11,\n",
       "       4.68102774e-11, 4.68102774e-11, 4.68102774e-11, 4.68102774e-11,\n",
       "       4.68102774e-11, 4.68102774e-11, 4.68102774e-11, 4.68102774e-11,\n",
       "       4.68102774e-11, 4.68102774e-11, 4.68102774e-11, 4.68102774e-11,\n",
       "       4.68102774e-11, 4.68102774e-11, 4.68102774e-11, 4.68102774e-11,\n",
       "       4.68102774e-11, 4.68102774e-11, 4.68102774e-11, 4.68102774e-11,\n",
       "       4.68102774e-11, 4.68102774e-11, 4.68102774e-11, 4.68102774e-11,\n",
       "       4.68102774e-11, 4.68102774e-11, 4.68102774e-11, 4.68102774e-11,\n",
       "       4.68102774e-11, 4.68102774e-11, 4.68102774e-11, 4.68102774e-11,\n",
       "       4.68102774e-11, 4.68102774e-11, 4.68102774e-11, 4.68102774e-11,\n",
       "       4.68102774e-11, 4.68102774e-11, 4.68102774e-11, 4.68102774e-11,\n",
       "       4.68102774e-11, 4.68102774e-11, 4.68102774e-11, 4.68102774e-11,\n",
       "       4.68102774e-11, 4.68102774e-11, 4.68102774e-11, 4.68102774e-11,\n",
       "       4.68102774e-11, 4.68102774e-11, 4.68102774e-11, 4.68102774e-11,\n",
       "       4.68102774e-11, 4.68102774e-11, 4.68102774e-11, 4.68102774e-11,\n",
       "       4.68102774e-11, 4.68102774e-11, 4.68102774e-11, 4.68102774e-11,\n",
       "       4.68102774e-11, 4.68102774e-11, 4.68102774e-11, 4.68102774e-11,\n",
       "       4.68102774e-11, 4.68102774e-11, 4.68102774e-11, 4.68102774e-11,\n",
       "       4.68102774e-11, 4.68102774e-11, 4.68102774e-11, 4.68102774e-11,\n",
       "       4.68102774e-11, 4.68102774e-11, 4.68102774e-11, 4.68102774e-11,\n",
       "       4.68102774e-11, 4.68102774e-11, 4.68102774e-11, 4.68102774e-11,\n",
       "       4.68102774e-11, 4.68102774e-11, 4.68102774e-11, 4.68102774e-11,\n",
       "       4.68102774e-11, 4.68102774e-11, 4.68102774e-11, 4.68102774e-11,\n",
       "       4.68102774e-11, 4.68102774e-11, 4.68102774e-11, 4.68102774e-11,\n",
       "       4.68102774e-11, 4.68102774e-11, 4.68102774e-11, 4.68102774e-11,\n",
       "       4.68102774e-11, 4.68102774e-11, 4.68102774e-11, 4.68102774e-11,\n",
       "       4.68102774e-11, 4.68102774e-11, 4.68102774e-11, 4.68102774e-11,\n",
       "       4.68102774e-11, 4.68102774e-11, 4.68102774e-11, 4.68102774e-11,\n",
       "       4.68102774e-11, 4.68102774e-11, 4.68102774e-11, 4.68102774e-11,\n",
       "       4.68102774e-11, 4.68102774e-11, 4.68102774e-11, 4.68102774e-11,\n",
       "       4.68102774e-11, 4.68102774e-11, 4.68102774e-11, 4.68102774e-11,\n",
       "       4.68102774e-11, 4.68102774e-11, 4.68102774e-11, 4.68102774e-11,\n",
       "       4.68102774e-11, 4.68102774e-11, 4.68102774e-11, 4.68102774e-11,\n",
       "       4.68102774e-11, 4.68102774e-11, 4.68102774e-11, 4.68102774e-11,\n",
       "       4.68102774e-11, 4.68102774e-11, 4.68102774e-11, 4.68102774e-11,\n",
       "       4.68102774e-11, 4.68102774e-11, 4.68102774e-11, 4.68102774e-11,\n",
       "       4.68102774e-11, 4.68102774e-11, 4.68102774e-11, 4.68102774e-11,\n",
       "       4.68102774e-11, 4.68102774e-11, 4.68102774e-11, 4.68102774e-11,\n",
       "       4.68102774e-11, 4.68102774e-11, 4.68102774e-11, 4.68102774e-11,\n",
       "       4.68102774e-11, 4.68102774e-11, 4.68102774e-11, 4.68102774e-11,\n",
       "       4.68102774e-11, 4.68102774e-11, 4.68102774e-11, 4.68102774e-11,\n",
       "       4.68102774e-11, 4.68102774e-11, 4.68102774e-11, 4.68102774e-11,\n",
       "       4.68102774e-11, 4.68102774e-11, 4.68102774e-11, 4.68102774e-11,\n",
       "       4.68102774e-11, 4.68102774e-11, 4.68102774e-11, 4.68102774e-11,\n",
       "       4.68102774e-11, 4.68102774e-11, 4.68102774e-11, 4.68102774e-11,\n",
       "       4.68102774e-11, 4.68102774e-11, 4.68102774e-11, 4.68102774e-11,\n",
       "       4.68102774e-11, 4.68102774e-11, 4.68102774e-11, 4.68102774e-11,\n",
       "       4.68102774e-11, 4.68102774e-11, 4.68102774e-11, 4.68102774e-11,\n",
       "       4.68102774e-11, 4.68102774e-11, 4.68102774e-11, 4.68102774e-11,\n",
       "       4.68102774e-11, 4.68102774e-11, 4.68102774e-11, 4.68102774e-11])"
      ]
     },
     "execution_count": 32,
     "metadata": {},
     "output_type": "execute_result"
    }
   ],
   "source": [
    "voigt(np.linspace(-10, 10, 1000), .0373, 6.8e9)"
   ]
  },
  {
   "cell_type": "code",
   "execution_count": null,
   "metadata": {},
   "outputs": [],
   "source": []
  }
 ],
 "metadata": {
  "kernelspec": {
   "display_name": "Python 3",
   "language": "python",
   "name": "python3"
  },
  "language_info": {
   "codemirror_mode": {
    "name": "ipython",
    "version": 3
   },
   "file_extension": ".py",
   "mimetype": "text/x-python",
   "name": "python",
   "nbconvert_exporter": "python",
   "pygments_lexer": "ipython3",
   "version": "3.7.6"
  }
 },
 "nbformat": 4,
 "nbformat_minor": 2
}
