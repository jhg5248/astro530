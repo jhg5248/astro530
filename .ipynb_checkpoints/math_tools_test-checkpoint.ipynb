{
 "cells": [
  {
   "cell_type": "code",
   "execution_count": 143,
   "metadata": {},
   "outputs": [],
   "source": [
    "\"\"\"The idea is to put any math utility routines that we need to write in this module\"\"\"\n",
    "import numpy as np\n",
    "import scipy.integrate as integrate\n",
    "import  math"
   ]
  },
  {
   "cell_type": "code",
   "execution_count": 144,
   "metadata": {},
   "outputs": [],
   "source": [
    "def integral(f, xmin, xmax, nsteps, logspace = True):\n",
    "    \"\"\"\n",
    "    Name: \n",
    "        integrate\n",
    "    \n",
    "    Purpose:\n",
    "        Integrate 1D functions using specified gridpoints, and optionally running until convergence to within a percentage, eBounds\n",
    "    \n",
    "    Explanation: \n",
    "        Integrate using a basic right-handed Riemann sum. \n",
    "    \n",
    "    Calling Seuqence:\n",
    "        integrator, f, xmin, xmax, nsteps, F\n",
    "        \n",
    "    Input/Output:\n",
    "        f - The function to be integrated. Must return a float.\n",
    "        xmin - Lower bound of integration\n",
    "        xmax - Upper bound of integration\n",
    "        nsteps - The number of points to use for computing the integral, as a starting point\n",
    "    \n",
    "    Limitations: If any gridpoints fall on a singularity, the routine will fail. \n",
    "    If there is a divergence not directly evaluated, the integral will fail to converge\n",
    "    and we will get a nonsense answer. \n",
    "        \n",
    "        \n",
    "    \n",
    "    \"\"\"\n",
    "    if logspace == True:\n",
    "        xgrid = np.logspace(np.log10(xmin), np.log10(xmax), nsteps+1)\n",
    "    else:\n",
    "        xgrid = np.linspace(xmin, xmax, nsteps + 1)\n",
    "    \n",
    "    ygrid = f(xgrid)\n",
    "    integral = integrate.simps(ygrid, xgrid)\n",
    "    return integral\n",
    "\n",
    "        "
   ]
  },
  {
   "cell_type": "code",
   "execution_count": 137,
   "metadata": {},
   "outputs": [],
   "source": [
    "def e_n(n, x, nsteps = 1e4, xmax = 1e20):\n",
    "    \"\"\"\n",
    "    Name: \n",
    "        e_n\n",
    "    \n",
    "    Purpose:\n",
    "        Calculate the exponential integral functions, E_n(x)\n",
    "    \n",
    "    Explanation: \n",
    "        The functions are \n",
    "        .. math:: E_n = \\\\int_1^\\infty e^{-x t}/t^n dt\n",
    "    \n",
    "    Calling Seuqence:\n",
    "        e_n, x, n, nsteps, xmax\n",
    "        \n",
    "    Input/Output:\n",
    "        x - the point at which to evaluate E_n\n",
    "        n - the order of the function\n",
    "        nsteps - The number of points to use for computing the integral\n",
    "        xmax - the maximum xvalue to integrate to integrate out to \n",
    "    \n",
    "    Limitations: If any gridpoints fall on a singularity, the routine will fail. \n",
    "    If there is a divergence not directly evaluated, the integral will fail to converge\n",
    "    and we will get a nonsense answer. \n",
    "        \n",
    "        \n",
    "    \n",
    "    \"\"\"\n",
    "    integral = np.zeros(len(x))\n",
    "    j = 0\n",
    "    for point in x:\n",
    "        xgrid = np.logspace(0, np.log10(xmax), nsteps)\n",
    "        ygrid = np.exp(-point*xgrid) / (xgrid**n)\n",
    "        integral[j] = (integrate.simps(ygrid, xgrid))\n",
    "        j += 1\n",
    "    return integral\n",
    "    "
   ]
  },
  {
   "cell_type": "markdown",
   "metadata": {},
   "source": [
    "#integral(lambda x: np.exp(-x), 0, 10, 10, eBound = 1e-10)"
   ]
  },
  {
   "cell_type": "code",
   "execution_count": null,
   "metadata": {},
   "outputs": [],
   "source": []
  }
 ],
 "metadata": {
  "kernelspec": {
   "display_name": "Python 3",
   "language": "python",
   "name": "python3"
  },
  "language_info": {
   "codemirror_mode": {
    "name": "ipython",
    "version": 3
   },
   "file_extension": ".py",
   "mimetype": "text/x-python",
   "name": "python",
   "nbconvert_exporter": "python",
   "pygments_lexer": "ipython3",
   "version": "3.7.3"
  }
 },
 "nbformat": 4,
 "nbformat_minor": 2
}
